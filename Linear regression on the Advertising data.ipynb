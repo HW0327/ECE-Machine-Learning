{
  "cells": [
    {
      "cell_type": "markdown",
      "metadata": {
        "id": "view-in-github",
        "colab_type": "text"
      },
      "source": [
        "<a href=\"https://colab.research.google.com/github/HW0327/ECE-Machine-Learning/blob/main/Linear%20regression%20on%20the%20Advertising%20data.ipynb\" target=\"_parent\"><img src=\"https://colab.research.google.com/assets/colab-badge.svg\" alt=\"Open In Colab\"/></a>"
      ]
    },
    {
      "cell_type": "markdown",
      "metadata": {
        "id": "HIeQlM_mYQop"
      },
      "source": [
        "Assignment: Linear regression on the Advertising data\n",
        "=====================================================\n",
        "\n",
        "*Fraida Fund*\n",
        "\n",
        "Submit answers to the questions in PrairieLearn as you work through this\n",
        "notebook."
      ],
      "id": "HIeQlM_mYQop"
    },
    {
      "cell_type": "markdown",
      "metadata": {
        "id": "1CjpSfKjYQov"
      },
      "source": [
        "To illustrate principles of linear regression, we are going to use some\n",
        "data from the textbook “An Introduction to Statistical Learning\n",
        "withApplications in R” (Gareth James, Daniela Witten, Trevor Hastie,\n",
        "Robert Tibshirani) (available via NYU Library).\n",
        "\n",
        "The dataset is described as follows:\n",
        "\n",
        "> Suppose that we are statistical consultants hired by a client to\n",
        "> provide advice on how to improve sales of a particular product. The\n",
        "> `Advertising` data set consists of the sales of that product in 200\n",
        "> different markets, along with advertising budgets for the product in\n",
        "> each of those markets for three different media: TV, radio, and\n",
        "> newspaper.\n",
        ">\n",
        "> …\n",
        ">\n",
        "> It is not possible for our client to directly increase sales of the\n",
        "> product. On the other hand, they can control the advertising\n",
        "> expenditure in each of the three media. Therefore, if we determine\n",
        "> that there is an association between advertising and sales, then we\n",
        "> can instruct our client to adjust advertising budgets, thereby\n",
        "> indirectly increasing sales. In other words, our goal is to develop an\n",
        "> accurate model that can be used to predict sales on the basis of the\n",
        "> three media budgets.\n",
        "\n",
        "Sales are reported in thousands of units, and TV, radio, and newspaper\n",
        "budgets, are reported in thousands of dollars.\n",
        "\n",
        "For this assignment, you will fit a linear regression model to a small\n",
        "dataset. You will iteratively improve your linear regression model by\n",
        "examining the residuals at each stage, in order to identify problems\n",
        "with the model.\n",
        "\n",
        "Make sure to include your name and net ID in a text cell at the top of\n",
        "the notebook."
      ],
      "id": "1CjpSfKjYQov"
    },
    {
      "cell_type": "code",
      "execution_count": null,
      "metadata": {
        "id": "7ZVrok7yYQox"
      },
      "outputs": [],
      "source": [
        "from sklearn import metrics\n",
        "from sklearn.linear_model import LinearRegression\n",
        "from sklearn.model_selection import train_test_split\n",
        "\n",
        "import numpy as np\n",
        "import matplotlib.pyplot as plt\n",
        "import pandas as pd\n",
        "import seaborn as sns\n",
        "sns.set()\n",
        "\n",
        "from IPython.core.interactiveshell import InteractiveShell\n",
        "InteractiveShell.ast_node_interactivity = \"all\""
      ],
      "id": "7ZVrok7yYQox"
    },
    {
      "cell_type": "markdown",
      "metadata": {
        "id": "ujkf4fmqYQoz"
      },
      "source": [
        "### 0. Read in and pre-process data\n",
        "\n",
        "In this section, you will read in the “Advertising” data, and make sure\n",
        "it is loaded correctly. Visually inspect the data using a pairplot, and\n",
        "note any meaningful observations. In particular, comment on which\n",
        "features appear to be correlated with product sales, and which features\n",
        "appear to be correlated with one another. Then, split the data into\n",
        "training data (70%) and test data (30%).\n",
        "\n",
        "**The code in this section is provided for you**."
      ],
      "id": "ujkf4fmqYQoz"
    },
    {
      "cell_type": "markdown",
      "metadata": {
        "id": "XvuifXSSYQo0"
      },
      "source": [
        "#### Read in data"
      ],
      "id": "XvuifXSSYQo0"
    },
    {
      "cell_type": "code",
      "execution_count": null,
      "metadata": {
        "id": "m09Qsf4vYQo1",
        "outputId": "a08494dd-d661-4439-e3b7-b65d00efba72",
        "colab": {
          "base_uri": "https://localhost:8080/"
        }
      },
      "outputs": [
        {
          "output_type": "stream",
          "name": "stdout",
          "text": [
            "--2022-06-12 00:50:53--  https://www.statlearning.com/s/Advertising.csv\n",
            "Resolving www.statlearning.com (www.statlearning.com)... 198.185.159.144, 198.49.23.145, 198.185.159.145, ...\n",
            "Connecting to www.statlearning.com (www.statlearning.com)|198.185.159.144|:443... connected.\n",
            "HTTP request sent, awaiting response... 302 Found\n",
            "Location: https://static1.squarespace.com/static/5ff2adbe3fe4fe33db902812/t/5fffe03b4091076ff5b30c72/1610604603901/Advertising.csv [following]\n",
            "--2022-06-12 00:50:54--  https://static1.squarespace.com/static/5ff2adbe3fe4fe33db902812/t/5fffe03b4091076ff5b30c72/1610604603901/Advertising.csv\n",
            "Resolving static1.squarespace.com (static1.squarespace.com)... 151.101.0.238, 151.101.64.238, 151.101.128.238, ...\n",
            "Connecting to static1.squarespace.com (static1.squarespace.com)|151.101.0.238|:443... connected.\n",
            "HTTP request sent, awaiting response... 200 OK\n",
            "Length: 4555 (4.4K) [text/csv]\n",
            "Saving to: ‘Advertising.csv’\n",
            "\n",
            "Advertising.csv     100%[===================>]   4.45K  --.-KB/s    in 0.001s  \n",
            "\n",
            "2022-06-12 00:50:54 (3.93 MB/s) - ‘Advertising.csv’ saved [4555/4555]\n",
            "\n"
          ]
        }
      ],
      "source": [
        "!wget 'https://www.statlearning.com/s/Advertising.csv' -O 'Advertising.csv'"
      ],
      "id": "m09Qsf4vYQo1"
    },
    {
      "cell_type": "code",
      "execution_count": null,
      "metadata": {
        "id": "Ujn0HAFnYQo2",
        "outputId": "544a8764-1813-45e3-e2dd-6939f052dec9",
        "colab": {
          "base_uri": "https://localhost:8080/",
          "height": 206
        }
      },
      "outputs": [
        {
          "output_type": "execute_result",
          "data": {
            "text/plain": [
              "      TV  radio  newspaper  sales\n",
              "1  230.1   37.8       69.2   22.1\n",
              "2   44.5   39.3       45.1   10.4\n",
              "3   17.2   45.9       69.3    9.3\n",
              "4  151.5   41.3       58.5   18.5\n",
              "5  180.8   10.8       58.4   12.9"
            ],
            "text/html": [
              "\n",
              "  <div id=\"df-407a652d-59c6-4480-bb26-00054ec030a8\">\n",
              "    <div class=\"colab-df-container\">\n",
              "      <div>\n",
              "<style scoped>\n",
              "    .dataframe tbody tr th:only-of-type {\n",
              "        vertical-align: middle;\n",
              "    }\n",
              "\n",
              "    .dataframe tbody tr th {\n",
              "        vertical-align: top;\n",
              "    }\n",
              "\n",
              "    .dataframe thead th {\n",
              "        text-align: right;\n",
              "    }\n",
              "</style>\n",
              "<table border=\"1\" class=\"dataframe\">\n",
              "  <thead>\n",
              "    <tr style=\"text-align: right;\">\n",
              "      <th></th>\n",
              "      <th>TV</th>\n",
              "      <th>radio</th>\n",
              "      <th>newspaper</th>\n",
              "      <th>sales</th>\n",
              "    </tr>\n",
              "  </thead>\n",
              "  <tbody>\n",
              "    <tr>\n",
              "      <th>1</th>\n",
              "      <td>230.1</td>\n",
              "      <td>37.8</td>\n",
              "      <td>69.2</td>\n",
              "      <td>22.1</td>\n",
              "    </tr>\n",
              "    <tr>\n",
              "      <th>2</th>\n",
              "      <td>44.5</td>\n",
              "      <td>39.3</td>\n",
              "      <td>45.1</td>\n",
              "      <td>10.4</td>\n",
              "    </tr>\n",
              "    <tr>\n",
              "      <th>3</th>\n",
              "      <td>17.2</td>\n",
              "      <td>45.9</td>\n",
              "      <td>69.3</td>\n",
              "      <td>9.3</td>\n",
              "    </tr>\n",
              "    <tr>\n",
              "      <th>4</th>\n",
              "      <td>151.5</td>\n",
              "      <td>41.3</td>\n",
              "      <td>58.5</td>\n",
              "      <td>18.5</td>\n",
              "    </tr>\n",
              "    <tr>\n",
              "      <th>5</th>\n",
              "      <td>180.8</td>\n",
              "      <td>10.8</td>\n",
              "      <td>58.4</td>\n",
              "      <td>12.9</td>\n",
              "    </tr>\n",
              "  </tbody>\n",
              "</table>\n",
              "</div>\n",
              "      <button class=\"colab-df-convert\" onclick=\"convertToInteractive('df-407a652d-59c6-4480-bb26-00054ec030a8')\"\n",
              "              title=\"Convert this dataframe to an interactive table.\"\n",
              "              style=\"display:none;\">\n",
              "        \n",
              "  <svg xmlns=\"http://www.w3.org/2000/svg\" height=\"24px\"viewBox=\"0 0 24 24\"\n",
              "       width=\"24px\">\n",
              "    <path d=\"M0 0h24v24H0V0z\" fill=\"none\"/>\n",
              "    <path d=\"M18.56 5.44l.94 2.06.94-2.06 2.06-.94-2.06-.94-.94-2.06-.94 2.06-2.06.94zm-11 1L8.5 8.5l.94-2.06 2.06-.94-2.06-.94L8.5 2.5l-.94 2.06-2.06.94zm10 10l.94 2.06.94-2.06 2.06-.94-2.06-.94-.94-2.06-.94 2.06-2.06.94z\"/><path d=\"M17.41 7.96l-1.37-1.37c-.4-.4-.92-.59-1.43-.59-.52 0-1.04.2-1.43.59L10.3 9.45l-7.72 7.72c-.78.78-.78 2.05 0 2.83L4 21.41c.39.39.9.59 1.41.59.51 0 1.02-.2 1.41-.59l7.78-7.78 2.81-2.81c.8-.78.8-2.07 0-2.86zM5.41 20L4 18.59l7.72-7.72 1.47 1.35L5.41 20z\"/>\n",
              "  </svg>\n",
              "      </button>\n",
              "      \n",
              "  <style>\n",
              "    .colab-df-container {\n",
              "      display:flex;\n",
              "      flex-wrap:wrap;\n",
              "      gap: 12px;\n",
              "    }\n",
              "\n",
              "    .colab-df-convert {\n",
              "      background-color: #E8F0FE;\n",
              "      border: none;\n",
              "      border-radius: 50%;\n",
              "      cursor: pointer;\n",
              "      display: none;\n",
              "      fill: #1967D2;\n",
              "      height: 32px;\n",
              "      padding: 0 0 0 0;\n",
              "      width: 32px;\n",
              "    }\n",
              "\n",
              "    .colab-df-convert:hover {\n",
              "      background-color: #E2EBFA;\n",
              "      box-shadow: 0px 1px 2px rgba(60, 64, 67, 0.3), 0px 1px 3px 1px rgba(60, 64, 67, 0.15);\n",
              "      fill: #174EA6;\n",
              "    }\n",
              "\n",
              "    [theme=dark] .colab-df-convert {\n",
              "      background-color: #3B4455;\n",
              "      fill: #D2E3FC;\n",
              "    }\n",
              "\n",
              "    [theme=dark] .colab-df-convert:hover {\n",
              "      background-color: #434B5C;\n",
              "      box-shadow: 0px 1px 3px 1px rgba(0, 0, 0, 0.15);\n",
              "      filter: drop-shadow(0px 1px 2px rgba(0, 0, 0, 0.3));\n",
              "      fill: #FFFFFF;\n",
              "    }\n",
              "  </style>\n",
              "\n",
              "      <script>\n",
              "        const buttonEl =\n",
              "          document.querySelector('#df-407a652d-59c6-4480-bb26-00054ec030a8 button.colab-df-convert');\n",
              "        buttonEl.style.display =\n",
              "          google.colab.kernel.accessAllowed ? 'block' : 'none';\n",
              "\n",
              "        async function convertToInteractive(key) {\n",
              "          const element = document.querySelector('#df-407a652d-59c6-4480-bb26-00054ec030a8');\n",
              "          const dataTable =\n",
              "            await google.colab.kernel.invokeFunction('convertToInteractive',\n",
              "                                                     [key], {});\n",
              "          if (!dataTable) return;\n",
              "\n",
              "          const docLinkHtml = 'Like what you see? Visit the ' +\n",
              "            '<a target=\"_blank\" href=https://colab.research.google.com/notebooks/data_table.ipynb>data table notebook</a>'\n",
              "            + ' to learn more about interactive tables.';\n",
              "          element.innerHTML = '';\n",
              "          dataTable['output_type'] = 'display_data';\n",
              "          await google.colab.output.renderOutput(dataTable, element);\n",
              "          const docLink = document.createElement('div');\n",
              "          docLink.innerHTML = docLinkHtml;\n",
              "          element.appendChild(docLink);\n",
              "        }\n",
              "      </script>\n",
              "    </div>\n",
              "  </div>\n",
              "  "
            ]
          },
          "metadata": {},
          "execution_count": 4
        }
      ],
      "source": [
        "df  = pd.read_csv('Advertising.csv', index_col=0)\n",
        "df.head()"
      ],
      "id": "Ujn0HAFnYQo2"
    },
    {
      "cell_type": "markdown",
      "metadata": {
        "id": "DovlTE77YQo3"
      },
      "source": [
        "Note that in this dataset, the first column in the data file is the row\n",
        "label; that’s why we use `index_col=0` in the `read_csv` command. If we\n",
        "would omit that argument, then we would have an additional (unnamed)\n",
        "column in the dataset, containing the row number.\n",
        "\n",
        "(You can try removing the `index_col` argument and re-running the cell\n",
        "above, to see the effect and to understand why we used this argument.)"
      ],
      "id": "DovlTE77YQo3"
    },
    {
      "cell_type": "markdown",
      "metadata": {
        "id": "yF4ZRTOYYQo5"
      },
      "source": [
        "#### Visually inspect the data"
      ],
      "id": "yF4ZRTOYYQo5"
    },
    {
      "cell_type": "code",
      "execution_count": null,
      "metadata": {
        "id": "4QrhH0CjYQo6",
        "outputId": "37f55fa5-663e-4fc9-e3b7-078b4394d0e2",
        "colab": {
          "base_uri": "https://localhost:8080/",
          "height": 725
        }
      },
      "outputs": [
        {
          "output_type": "display_data",
          "data": {
            "text/plain": [
              "<Figure size 720x720 with 20 Axes>"
            ],
            "image/png": "[encoded data removed]"
          },
          "metadata": {}
        }
      ],
      "source": [
        "sns.pairplot(df);"
      ],
      "id": "4QrhH0CjYQo6"
    },
    {
      "cell_type": "markdown",
      "metadata": {
        "id": "CXIJWVebYQo7"
      },
      "source": [
        "The most important panels here are on the bottom row, where `sales` is\n",
        "on the vertical axis and the advertising budgets are on the horizontal\n",
        "axes.\n",
        "\n",
        "Looking at this row, it appears that TV ad spending and radio ad\n",
        "spending are likely to be useful predictive features for `sales`; for\n",
        "newspaper ad spending, it is not clear from the pairplot whether there\n",
        "is a relationship."
      ],
      "id": "CXIJWVebYQo7"
    },
    {
      "cell_type": "markdown",
      "metadata": {
        "id": "pS8FOXBAYQo8"
      },
      "source": [
        "#### Split up data\n",
        "\n",
        "We will use 70% of the data for training and the remaining 30% to\n",
        "evaluate the regression model on data *not* used for training."
      ],
      "id": "pS8FOXBAYQo8"
    },
    {
      "cell_type": "code",
      "execution_count": null,
      "metadata": {
        "id": "ucFvk5BrYQo9"
      },
      "outputs": [],
      "source": [
        "train, test = train_test_split(df, test_size=0.3, random_state=9)"
      ],
      "id": "ucFvk5BrYQo9"
    },
    {
      "cell_type": "markdown",
      "metadata": {
        "id": "h8GQ4fQ3YQo9"
      },
      "source": [
        "We will set the `random_state` to a constant so that every time you run\n",
        "this notebook, exactly the same data points will be assigned to test\n",
        "vs. training sets. This is helpful in the debugging stage."
      ],
      "id": "h8GQ4fQ3YQo9"
    },
    {
      "cell_type": "code",
      "execution_count": null,
      "metadata": {
        "id": "jOUGctdbYQo-",
        "outputId": "bdd43abe-7a6e-4efb-f5d4-ffcbf45d2234",
        "colab": {
          "base_uri": "https://localhost:8080/"
        }
      },
      "outputs": [
        {
          "output_type": "stream",
          "name": "stdout",
          "text": [
            "<class 'pandas.core.frame.DataFrame'>\n",
            "Int64Index: 140 entries, 134 to 127\n",
            "Data columns (total 4 columns):\n",
            " #   Column     Non-Null Count  Dtype  \n",
            "---  ------     --------------  -----  \n",
            " 0   TV         140 non-null    float64\n",
            " 1   radio      140 non-null    float64\n",
            " 2   newspaper  140 non-null    float64\n",
            " 3   sales      140 non-null    float64\n",
            "dtypes: float64(4)\n",
            "memory usage: 5.5 KB\n"
          ]
        }
      ],
      "source": [
        "train.info()"
      ],
      "id": "jOUGctdbYQo-"
    },
    {
      "cell_type": "code",
      "execution_count": null,
      "metadata": {
        "id": "bHNCKGOkYQo-",
        "outputId": "c1bc91f3-8562-4ddc-d017-845d5109f15d",
        "colab": {
          "base_uri": "https://localhost:8080/"
        }
      },
      "outputs": [
        {
          "output_type": "stream",
          "name": "stdout",
          "text": [
            "<class 'pandas.core.frame.DataFrame'>\n",
            "Int64Index: 60 entries, 85 to 7\n",
            "Data columns (total 4 columns):\n",
            " #   Column     Non-Null Count  Dtype  \n",
            "---  ------     --------------  -----  \n",
            " 0   TV         60 non-null     float64\n",
            " 1   radio      60 non-null     float64\n",
            " 2   newspaper  60 non-null     float64\n",
            " 3   sales      60 non-null     float64\n",
            "dtypes: float64(4)\n",
            "memory usage: 2.3 KB\n"
          ]
        }
      ],
      "source": [
        "test.info()"
      ],
      "id": "bHNCKGOkYQo-"
    },
    {
      "cell_type": "markdown",
      "metadata": {
        "id": "M0aIKEiqYQo_"
      },
      "source": [
        "### 1. Fit simple linear regression models\n",
        "\n",
        "Use the training data to fit a simple linear regression to predict\n",
        "product sales, for each of three features: TV ad budget, radio ad\n",
        "budget, and newspaper ad budget. In other words, you will fit *three*\n",
        "regression models, with each model being trained on one feature. For\n",
        "each of the three regression models, create a plot of the training data\n",
        "and the regression line, with product sales ($y$) on the vertical axis\n",
        "and the feature on which the model was trained ($x$) on the horizontal\n",
        "axis.\n",
        "\n",
        "Also, for each regression model, print the intercept and coefficients,\n",
        "and compute the MSE and R2 on the training data, and MSE and R2 on the\n",
        "test data.\n",
        "\n",
        "Comment on the results. Which type of ad spending seems to be associated\n",
        "with the largest increase in product sales? Which regression model is\n",
        "most effective at predicting product sales?\n",
        "\n",
        "**The code in this section is provided for you**. However, you will need\n",
        "to add comments, observations, and answers to the questions."
      ],
      "id": "M0aIKEiqYQo_"
    },
    {
      "cell_type": "markdown",
      "metadata": {
        "id": "LNw5vNJzYQo_"
      },
      "source": [
        "#### Fit a simple linear regression"
      ],
      "id": "LNw5vNJzYQo_"
    },
    {
      "cell_type": "code",
      "execution_count": null,
      "metadata": {
        "id": "0MQlprPDYQpA"
      },
      "outputs": [],
      "source": [
        "reg_tv    = LinearRegression().fit(train[['TV']], train['sales'])\n",
        "reg_radio = LinearRegression().fit(train[['radio']], train['sales'])\n",
        "reg_news  = LinearRegression().fit(train[['newspaper']], train['sales'])"
      ],
      "id": "0MQlprPDYQpA"
    },
    {
      "cell_type": "markdown",
      "metadata": {
        "id": "1P4zWw_UYQpA"
      },
      "source": [
        "#### Look at coefficients"
      ],
      "id": "1P4zWw_UYQpA"
    },
    {
      "cell_type": "code",
      "execution_count": null,
      "metadata": {
        "id": "dn-KaG_NYQpB",
        "outputId": "7700d7d8-6ac0-4569-b041-1157e6e0080d",
        "colab": {
          "base_uri": "https://localhost:8080/"
        }
      },
      "outputs": [
        {
          "output_type": "stream",
          "name": "stdout",
          "text": [
            "TV       :  0.04964468781898984 6.711432632336138\n",
            "Radio    :  0.21062312839115208 8.997640913704718\n",
            "Newspaper:  0.046574464282301664 12.375549417451523\n"
          ]
        }
      ],
      "source": [
        "print(\"TV       : \", reg_tv.coef_[0], reg_tv.intercept_)\n",
        "print(\"Radio    : \", reg_radio.coef_[0], reg_radio.intercept_)\n",
        "print(\"Newspaper: \", reg_news.coef_[0], reg_news.intercept_)"
      ],
      "id": "dn-KaG_NYQpB"
    },
    {
      "cell_type": "markdown",
      "metadata": {
        "id": "m7qe2x0RYQpB"
      },
      "source": [
        "#### Plot data and regression line"
      ],
      "id": "m7qe2x0RYQpB"
    },
    {
      "cell_type": "code",
      "execution_count": null,
      "metadata": {
        "id": "XIMXZp4JYQpC",
        "outputId": "1307d0fe-bc92-4510-e1a3-7e6c6968b2e2",
        "colab": {
          "base_uri": "https://localhost:8080/",
          "height": 230
        }
      },
      "outputs": [
        {
          "output_type": "display_data",
          "data": {
            "text/plain": [
              "<Figure size 864x216 with 3 Axes>"
            ],
            "image/png": "[encoded data removed]"
          },
          "metadata": {}
        }
      ],
      "source": [
        "fig = plt.figure(figsize=(12,3))\n",
        "\n",
        "plt.subplot(1,3,1)\n",
        "sns.scatterplot(data=train, x=\"TV\", y=\"sales\");\n",
        "sns.lineplot(data=train, x=\"TV\", y=reg_tv.predict(train[['TV']]), color='red');\n",
        "\n",
        "plt.subplot(1,3,2)\n",
        "sns.scatterplot(data=train, x=\"radio\", y=\"sales\");\n",
        "sns.lineplot(data=train, x=\"radio\", y=reg_radio.predict(train[['radio']]), color='red');\n",
        "\n",
        "plt.subplot(1,3,3)\n",
        "sns.scatterplot(data=train, x=\"newspaper\", y=\"sales\");\n",
        "sns.lineplot(data=train, x=\"newspaper\", y=reg_news.predict(train[['newspaper']]), color='red');"
      ],
      "id": "XIMXZp4JYQpC"
    },
    {
      "cell_type": "markdown",
      "metadata": {
        "id": "J0o3yl76YQpD"
      },
      "source": [
        "#### Compute R2, MSE for simple regression"
      ],
      "id": "J0o3yl76YQpD"
    },
    {
      "cell_type": "code",
      "execution_count": null,
      "metadata": {
        "id": "_pXJe6lyYQpD"
      },
      "outputs": [],
      "source": [
        "y_pred_tr_tv    = reg_tv.predict(train[['TV']])\n",
        "y_pred_tr_radio = reg_radio.predict(train[['radio']])\n",
        "y_pred_tr_news  = reg_news.predict(train[['newspaper']])"
      ],
      "id": "_pXJe6lyYQpD"
    },
    {
      "cell_type": "code",
      "execution_count": null,
      "metadata": {
        "id": "PDFPNna6YQpE",
        "outputId": "79461c8b-d139-4844-b51c-42fb05105757",
        "colab": {
          "base_uri": "https://localhost:8080/"
        }
      },
      "outputs": [
        {
          "output_type": "stream",
          "name": "stdout",
          "text": [
            "TV       :  0.6462575775839753\n",
            "Radio    :  0.33630082549935214\n",
            "Newspaper:  0.0373981756207491\n"
          ]
        }
      ],
      "source": [
        "r2_tr_tv    = metrics.r2_score(train['sales'], y_pred_tr_tv)\n",
        "r2_tr_radio = metrics.r2_score(train['sales'], y_pred_tr_radio)\n",
        "r2_tr_news  = metrics.r2_score(train['sales'], y_pred_tr_news)\n",
        "print(\"TV       : \", r2_tr_tv)\n",
        "print(\"Radio    : \", r2_tr_radio)\n",
        "print(\"Newspaper: \", r2_tr_news)"
      ],
      "id": "PDFPNna6YQpE"
    },
    {
      "cell_type": "code",
      "execution_count": null,
      "metadata": {
        "id": "Xko0NtaFYQpE",
        "outputId": "cb5e9947-81b4-4c03-ca74-ab6cb5cf4a86",
        "colab": {
          "base_uri": "https://localhost:8080/"
        }
      },
      "outputs": [
        {
          "output_type": "stream",
          "name": "stdout",
          "text": [
            "TV       :  9.798510609335318\n",
            "Radio    :  18.384177273212142\n",
            "Newspaper:  26.663650133692155\n"
          ]
        }
      ],
      "source": [
        "mse_tr_tv    = metrics.mean_squared_error(train['sales'], y_pred_tr_tv)\n",
        "mse_tr_radio = metrics.mean_squared_error(train['sales'], y_pred_tr_radio)\n",
        "mse_tr_news  = metrics.mean_squared_error(train['sales'], y_pred_tr_news)\n",
        "print(\"TV       : \", mse_tr_tv)\n",
        "print(\"Radio    : \", mse_tr_radio)\n",
        "print(\"Newspaper: \", mse_tr_news)"
      ],
      "id": "Xko0NtaFYQpE"
    },
    {
      "cell_type": "code",
      "execution_count": null,
      "metadata": {
        "id": "r0Bb7w_eYQpF"
      },
      "outputs": [],
      "source": [
        "y_pred_ts_tv    = reg_tv.predict(test[['TV']])\n",
        "y_pred_ts_radio = reg_radio.predict(test[['radio']])\n",
        "y_pred_ts_news  = reg_news.predict(test[['newspaper']])"
      ],
      "id": "r0Bb7w_eYQpF"
    },
    {
      "cell_type": "code",
      "execution_count": null,
      "metadata": {
        "id": "W9ZoqWwlYQpF",
        "outputId": "94d25709-0bbf-4550-a93c-1722cca2dc75",
        "colab": {
          "base_uri": "https://localhost:8080/"
        }
      },
      "outputs": [
        {
          "output_type": "stream",
          "name": "stdout",
          "text": [
            "TV       :  0.5138892470208256\n",
            "Radio    :  0.3072356147167632\n",
            "Newspaper:  0.06497948830922318\n"
          ]
        }
      ],
      "source": [
        "r2_ts_tv    = metrics.r2_score(test['sales'], y_pred_ts_tv)\n",
        "r2_ts_radio = metrics.r2_score(test['sales'], y_pred_ts_radio)\n",
        "r2_ts_news  = metrics.r2_score(test['sales'], y_pred_ts_news)\n",
        "print(\"TV       : \", r2_ts_tv)\n",
        "print(\"Radio    : \", r2_ts_radio)\n",
        "print(\"Newspaper: \", r2_ts_news)"
      ],
      "id": "W9ZoqWwlYQpF"
    },
    {
      "cell_type": "code",
      "execution_count": null,
      "metadata": {
        "id": "NxvSrp_OYQpG",
        "outputId": "3acb87d8-05b2-40ea-c241-ca46836a4835",
        "colab": {
          "base_uri": "https://localhost:8080/"
        }
      },
      "outputs": [
        {
          "output_type": "stream",
          "name": "stdout",
          "text": [
            "TV       :  12.288041294264643\n",
            "Radio    :  17.511888641395615\n",
            "Newspaper:  23.635705625160178\n"
          ]
        }
      ],
      "source": [
        "mse_ts_tv    = metrics.mean_squared_error(test['sales'], y_pred_ts_tv)\n",
        "mse_ts_radio = metrics.mean_squared_error(test['sales'], y_pred_ts_radio)\n",
        "mse_ts_news  = metrics.mean_squared_error(test['sales'], y_pred_ts_news)\n",
        "print(\"TV       : \", mse_ts_tv)\n",
        "print(\"Radio    : \", mse_ts_radio)\n",
        "print(\"Newspaper: \", mse_ts_news)"
      ],
      "id": "NxvSrp_OYQpG"
    },
    {
      "cell_type": "markdown",
      "metadata": {
        "id": "BRtSxn0XYQpG"
      },
      "source": [
        "### 2. Explore the residuals for the single linear regression models\n",
        "\n",
        "We know that computing MSE or R2 is not sufficient to diagnose a problem\n",
        "with a linear regression.\n",
        "\n",
        "Create some additional plots as described below to help you identify any\n",
        "problems with the regression. Use training data for all of the items\n",
        "below.\n",
        "\n",
        "For each of the three regression models, you will compute the residuals\n",
        "($y - \\hat{y}$). Then, you’ll create three plots - each with three\n",
        "subplots, one for each regression model - as follows:\n",
        "\n",
        "**Plot 1**: Create a scatter plot of predicted sales ($\\hat{y}$) on the\n",
        "vertical axis, and actual sales ($y$) on the horizontal axis. Make sure\n",
        "both axes use the same scale (the range of the vertical axis should be\n",
        "the same as the range of the vertical axis) *and* that all three\n",
        "subplots use the same scale. Label each axes, and each plot. What would\n",
        "you expect this plot to look like for a model that explains the data\n",
        "well?\n",
        "\n",
        "**Plot 2**: Create a scatter plot with the residuals ($y - \\hat{y}$) on\n",
        "the vertical axis, and actual sales ($y$) on the horizontal axis. Use\n",
        "the same scale for all three subplots. Comment on your observations. Is\n",
        "there a pattern in the residuals (and if so, what might it indicate), or\n",
        "do they appear to have no pattern with respect to actual sales?\n",
        "\n",
        "**Plot 3**: For each of the three regression models AND each of the\n",
        "three features, create a scatter plot with the residuals ($y - \\hat{y}$)\n",
        "on the vertical axis, and the feature ($x$) on the horizontal axis. This\n",
        "plot will include nine subplots in total, for every combination of\n",
        "regression model and feature. Make sure to clearly label each axis, and\n",
        "also label each subplot with a title that indicates which regression\n",
        "model it uses. Is there a pattern in the residuals (and if so, what\n",
        "might it indicate), or do they appear to have no pattern with respect to\n",
        "each of the three features?\n",
        "\n",
        "**The code in this section is not provided for you**. You will need to\n",
        "write code, as well as comments, observations, and answers to the\n",
        "questions.\n",
        "\n",
        "------------------------------------------------------------------------\n",
        "\n",
        "Note that in general, to earn full credit, plots must:\n",
        "\n",
        "-   Be readable (especially text size).\n",
        "-   Have a label on each axis.\n",
        "-   Have an appropriate range for each axis. When there are multiple\n",
        "    subplots, if the goal is to compare similar things in different\n",
        "    subplots, in most cases it is appropriate for them all to use the\n",
        "    same range.\n",
        "-   If there are multiple subplots, or multiple data series in the same\n",
        "    plot, it must be made clear which is which."
      ],
      "id": "BRtSxn0XYQpG"
    },
    {
      "cell_type": "code",
      "source": [
        "fig = plt.figure(figsize=(12,3))\n",
        "\n",
        "plt.subplot(1,3,1)\n",
        "sns.scatterplot(data=train, x=\"sales\", y=reg_tv.predict(train[['TV']]));\n",
        "plt.xlabel(\"Actual Sales\")\n",
        "plt.ylabel(\"Predicted Sales\")\n",
        "plt.title(\"TV predicted-vs-true\")\n",
        "plt.xlim(0, 30)\n",
        "plt.ylim(0, 30)\n",
        "\n",
        "plt.subplot(1,3,2)\n",
        "sns.scatterplot(data=train, x=\"sales\", y=reg_radio.predict(train[['radio']]));\n",
        "plt.xlabel(\"Actual Sales\")\n",
        "plt.ylabel(\"Predicted Sales\")\n",
        "plt.title(\"Radio predicted-vs-true\")\n",
        "plt.xlim(0, 30)\n",
        "plt.ylim(0, 30)\n",
        "\n",
        "plt.subplot(1,3,3)\n",
        "sns.scatterplot(data=train, x=\"sales\", y=reg_news.predict(train[['newspaper']]));\n",
        "plt.xlabel(\"Actual Sales\")\n",
        "plt.ylabel(\"Predicted Sales\")\n",
        "plt.title(\"Newspaper predicted-vs-true\")\n",
        "plt.xlim(0, 30)\n",
        "plt.ylim(0, 30)\n",
        "\n",
        "plt.show()"
      ],
      "metadata": {
        "id": "s8J2DxDUgyaJ",
        "colab": {
          "base_uri": "https://localhost:8080/",
          "height": 387
        },
        "outputId": "10b90fbd-04f4-4e30-e74c-490ef0be4d26"
      },
      "id": "s8J2DxDUgyaJ",
      "execution_count": null,
      "outputs": [
        {
          "output_type": "execute_result",
          "data": {
            "text/plain": [
              "<matplotlib.axes._subplots.AxesSubplot at 0x7fa06bc91410>"
            ]
          },
          "metadata": {},
          "execution_count": 18
        },
        {
          "output_type": "execute_result",
          "data": {
            "text/plain": [
              "<matplotlib.axes._subplots.AxesSubplot at 0x7fa06bc91410>"
            ]
          },
          "metadata": {},
          "execution_count": 18
        },
        {
          "output_type": "execute_result",
          "data": {
            "text/plain": [
              "Text(0.5, 0, 'Actual Sales')"
            ]
          },
          "metadata": {},
          "execution_count": 18
        },
        {
          "output_type": "execute_result",
          "data": {
            "text/plain": [
              "Text(0, 0.5, 'Predicted Sales')"
            ]
          },
          "metadata": {},
          "execution_count": 18
        },
        {
          "output_type": "execute_result",
          "data": {
            "text/plain": [
              "Text(0.5, 1.0, 'TV predicted-vs-true')"
            ]
          },
          "metadata": {},
          "execution_count": 18
        },
        {
          "output_type": "execute_result",
          "data": {
            "text/plain": [
              "(0.0, 30.0)"
            ]
          },
          "metadata": {},
          "execution_count": 18
        },
        {
          "output_type": "execute_result",
          "data": {
            "text/plain": [
              "(0.0, 30.0)"
            ]
          },
          "metadata": {},
          "execution_count": 18
        },
        {
          "output_type": "execute_result",
          "data": {
            "text/plain": [
              "<matplotlib.axes._subplots.AxesSubplot at 0x7fa06bc2b1d0>"
            ]
          },
          "metadata": {},
          "execution_count": 18
        },
        {
          "output_type": "execute_result",
          "data": {
            "text/plain": [
              "<matplotlib.axes._subplots.AxesSubplot at 0x7fa06bc2b1d0>"
            ]
          },
          "metadata": {},
          "execution_count": 18
        },
        {
          "output_type": "execute_result",
          "data": {
            "text/plain": [
              "Text(0.5, 0, 'Actual Sales')"
            ]
          },
          "metadata": {},
          "execution_count": 18
        },
        {
          "output_type": "execute_result",
          "data": {
            "text/plain": [
              "Text(0, 0.5, 'Predicted Sales')"
            ]
          },
          "metadata": {},
          "execution_count": 18
        },
        {
          "output_type": "execute_result",
          "data": {
            "text/plain": [
              "Text(0.5, 1.0, 'Radio predicted-vs-true')"
            ]
          },
          "metadata": {},
          "execution_count": 18
        },
        {
          "output_type": "execute_result",
          "data": {
            "text/plain": [
              "(0.0, 30.0)"
            ]
          },
          "metadata": {},
          "execution_count": 18
        },
        {
          "output_type": "execute_result",
          "data": {
            "text/plain": [
              "(0.0, 30.0)"
            ]
          },
          "metadata": {},
          "execution_count": 18
        },
        {
          "output_type": "execute_result",
          "data": {
            "text/plain": [
              "<matplotlib.axes._subplots.AxesSubplot at 0x7fa06bc3e7d0>"
            ]
          },
          "metadata": {},
          "execution_count": 18
        },
        {
          "output_type": "execute_result",
          "data": {
            "text/plain": [
              "<matplotlib.axes._subplots.AxesSubplot at 0x7fa06bc3e7d0>"
            ]
          },
          "metadata": {},
          "execution_count": 18
        },
        {
          "output_type": "execute_result",
          "data": {
            "text/plain": [
              "Text(0.5, 0, 'Actual Sales')"
            ]
          },
          "metadata": {},
          "execution_count": 18
        },
        {
          "output_type": "execute_result",
          "data": {
            "text/plain": [
              "Text(0, 0.5, 'Predicted Sales')"
            ]
          },
          "metadata": {},
          "execution_count": 18
        },
        {
          "output_type": "execute_result",
          "data": {
            "text/plain": [
              "Text(0.5, 1.0, 'Newspaper predicted-vs-true')"
            ]
          },
          "metadata": {},
          "execution_count": 18
        },
        {
          "output_type": "execute_result",
          "data": {
            "text/plain": [
              "(0.0, 30.0)"
            ]
          },
          "metadata": {},
          "execution_count": 18
        },
        {
          "output_type": "execute_result",
          "data": {
            "text/plain": [
              "(0.0, 30.0)"
            ]
          },
          "metadata": {},
          "execution_count": 18
        },
        {
          "output_type": "display_data",
          "data": {
            "text/plain": [
              "<Figure size 864x216 with 3 Axes>"
            ],
            "image/png": "[encoded data removed]"
          },
          "metadata": {}
        }
      ]
    },
    {
      "cell_type": "code",
      "source": [
        "fig = plt.figure(figsize=(12,3))\n",
        "plt.subplots_adjust(left=1, right=2.2)\n",
        "\n",
        "residual_tv = train[\"sales\"]-reg_tv.predict(train[['TV']])\n",
        "residual_radio = train[\"sales\"]-reg_tv.predict(train[['radio']])\n",
        "residual_news = train[\"sales\"]-reg_tv.predict(train[['newspaper']])\n",
        "\n",
        "plt.subplot(1,3,1)\n",
        "sns.scatterplot(data=train, x=\"sales\", y=residual_tv);\n",
        "plt.xlabel(\"Actual Sales\")\n",
        "plt.ylabel(\"Residuals\")\n",
        "plt.title(\"TV residuals-vs-true\")\n",
        "plt.xlim(0, 30)\n",
        "plt.ylim(-15, 25)\n",
        "\n",
        "plt.subplot(1,3,2)\n",
        "sns.scatterplot(data=train, x=\"sales\", y=residual_radio);\n",
        "plt.xlabel(\"Actual Sales\")\n",
        "plt.ylabel(\"Residuals\")\n",
        "plt.title(\"Radio residuals-vs-true\")\n",
        "plt.xlim(0, 30)\n",
        "plt.ylim(-15, 25)\n",
        "\n",
        "plt.subplot(1,3,3)\n",
        "sns.scatterplot(data=train, x=\"sales\", y=residual_news);\n",
        "plt.xlabel(\"Actual Sales\")\n",
        "plt.ylabel(\"Residuals\")\n",
        "plt.title(\"Newspaper residuals-vs-true\")\n",
        "plt.xlim(0, 30)\n",
        "plt.ylim(-15, 25)\n"
      ],
      "metadata": {
        "colab": {
          "base_uri": "https://localhost:8080/",
          "height": 630
        },
        "id": "TYJOokzIncCb",
        "outputId": "fdf176b5-8530-447f-cc6c-4965cfa61665"
      },
      "id": "TYJOokzIncCb",
      "execution_count": null,
      "outputs": [
        {
          "output_type": "stream",
          "name": "stderr",
          "text": [
            "/usr/local/lib/python3.7/dist-packages/sklearn/base.py:493: FutureWarning: The feature names should match those that were passed during fit. Starting version 1.2, an error will be raised.\n",
            "Feature names unseen at fit time:\n",
            "- radio\n",
            "Feature names seen at fit time, yet now missing:\n",
            "- TV\n",
            "\n",
            "  warnings.warn(message, FutureWarning)\n",
            "/usr/local/lib/python3.7/dist-packages/sklearn/base.py:493: FutureWarning: The feature names should match those that were passed during fit. Starting version 1.2, an error will be raised.\n",
            "Feature names unseen at fit time:\n",
            "- newspaper\n",
            "Feature names seen at fit time, yet now missing:\n",
            "- TV\n",
            "\n",
            "  warnings.warn(message, FutureWarning)\n"
          ]
        },
        {
          "output_type": "execute_result",
          "data": {
            "text/plain": [
              "<matplotlib.axes._subplots.AxesSubplot at 0x7fa06bc914d0>"
            ]
          },
          "metadata": {},
          "execution_count": 19
        },
        {
          "output_type": "execute_result",
          "data": {
            "text/plain": [
              "<matplotlib.axes._subplots.AxesSubplot at 0x7fa06bc914d0>"
            ]
          },
          "metadata": {},
          "execution_count": 19
        },
        {
          "output_type": "execute_result",
          "data": {
            "text/plain": [
              "Text(0.5, 0, 'Actual Sales')"
            ]
          },
          "metadata": {},
          "execution_count": 19
        },
        {
          "output_type": "execute_result",
          "data": {
            "text/plain": [
              "Text(0, 0.5, 'Residuals')"
            ]
          },
          "metadata": {},
          "execution_count": 19
        },
        {
          "output_type": "execute_result",
          "data": {
            "text/plain": [
              "Text(0.5, 1.0, 'TV residuals-vs-true')"
            ]
          },
          "metadata": {},
          "execution_count": 19
        },
        {
          "output_type": "execute_result",
          "data": {
            "text/plain": [
              "(0.0, 30.0)"
            ]
          },
          "metadata": {},
          "execution_count": 19
        },
        {
          "output_type": "execute_result",
          "data": {
            "text/plain": [
              "(-15.0, 25.0)"
            ]
          },
          "metadata": {},
          "execution_count": 19
        },
        {
          "output_type": "execute_result",
          "data": {
            "text/plain": [
              "<matplotlib.axes._subplots.AxesSubplot at 0x7fa06bb50e50>"
            ]
          },
          "metadata": {},
          "execution_count": 19
        },
        {
          "output_type": "execute_result",
          "data": {
            "text/plain": [
              "<matplotlib.axes._subplots.AxesSubplot at 0x7fa06bb50e50>"
            ]
          },
          "metadata": {},
          "execution_count": 19
        },
        {
          "output_type": "execute_result",
          "data": {
            "text/plain": [
              "Text(0.5, 0, 'Actual Sales')"
            ]
          },
          "metadata": {},
          "execution_count": 19
        },
        {
          "output_type": "execute_result",
          "data": {
            "text/plain": [
              "Text(0, 0.5, 'Residuals')"
            ]
          },
          "metadata": {},
          "execution_count": 19
        },
        {
          "output_type": "execute_result",
          "data": {
            "text/plain": [
              "Text(0.5, 1.0, 'Radio residuals-vs-true')"
            ]
          },
          "metadata": {},
          "execution_count": 19
        },
        {
          "output_type": "execute_result",
          "data": {
            "text/plain": [
              "(0.0, 30.0)"
            ]
          },
          "metadata": {},
          "execution_count": 19
        },
        {
          "output_type": "execute_result",
          "data": {
            "text/plain": [
              "(-15.0, 25.0)"
            ]
          },
          "metadata": {},
          "execution_count": 19
        },
        {
          "output_type": "execute_result",
          "data": {
            "text/plain": [
              "<matplotlib.axes._subplots.AxesSubplot at 0x7fa06bae2690>"
            ]
          },
          "metadata": {},
          "execution_count": 19
        },
        {
          "output_type": "execute_result",
          "data": {
            "text/plain": [
              "<matplotlib.axes._subplots.AxesSubplot at 0x7fa06bae2690>"
            ]
          },
          "metadata": {},
          "execution_count": 19
        },
        {
          "output_type": "execute_result",
          "data": {
            "text/plain": [
              "Text(0.5, 0, 'Actual Sales')"
            ]
          },
          "metadata": {},
          "execution_count": 19
        },
        {
          "output_type": "execute_result",
          "data": {
            "text/plain": [
              "Text(0, 0.5, 'Residuals')"
            ]
          },
          "metadata": {},
          "execution_count": 19
        },
        {
          "output_type": "execute_result",
          "data": {
            "text/plain": [
              "Text(0.5, 1.0, 'Newspaper residuals-vs-true')"
            ]
          },
          "metadata": {},
          "execution_count": 19
        },
        {
          "output_type": "execute_result",
          "data": {
            "text/plain": [
              "(0.0, 30.0)"
            ]
          },
          "metadata": {},
          "execution_count": 19
        },
        {
          "output_type": "execute_result",
          "data": {
            "text/plain": [
              "(-15.0, 25.0)"
            ]
          },
          "metadata": {},
          "execution_count": 19
        },
        {
          "output_type": "display_data",
          "data": {
            "text/plain": [
              "<Figure size 864x216 with 3 Axes>"
            ],
            "image/png": "[encoded data removed]"
          },
          "metadata": {}
        }
      ]
    },
    {
      "cell_type": "code",
      "source": [
        "fig = plt.figure(figsize=(15,25))\n",
        "plt.subplots_adjust(left=1, right=2.2, bottom=1, top=1.5)\n",
        "\n",
        "residual_tv = train[\"sales\"]-reg_tv.predict(train[['TV']])\n",
        "residual_radio = train[\"sales\"]-reg_tv.predict(train[['radio']])\n",
        "residual_news = train[\"sales\"]-reg_tv.predict(train[['newspaper']])\n",
        "\n",
        "plt.subplot(3,3,1)\n",
        "sns.scatterplot(data=train, x=\"TV\", y=residual_tv);\n",
        "plt.xlabel(\"TV\")\n",
        "plt.ylabel(\"Residuals\")\n",
        "plt.title(\"TV regression model on TV\")\n",
        "plt.xlim(0, 300)\n",
        "plt.ylim(-10,20)\n",
        "\n",
        "plt.subplot(3,3,2)\n",
        "sns.scatterplot(data=train, x=\"radio\", y=residual_tv);\n",
        "plt.xlabel(\"Radio\")\n",
        "plt.ylabel(\"Residuals\")\n",
        "plt.title(\"TV regression model on radio\")\n",
        "plt.xlim(0, 55)\n",
        "plt.ylim(-10,20)\n",
        "\n",
        "plt.subplot(3,3,3)\n",
        "sns.scatterplot(data=train, x=\"newspaper\", y=residual_tv);\n",
        "plt.xlabel(\"Newspaper\")\n",
        "plt.ylabel(\"Residuals\")\n",
        "plt.title(\"TV regression model on newspaper\")\n",
        "plt.xlim(0, 120)\n",
        "plt.ylim(-10,20)\n",
        "\n",
        "plt.subplot(3,3,4)\n",
        "sns.scatterplot(data=train, x=\"TV\", y=residual_radio);\n",
        "plt.xlabel(\"TV\")\n",
        "plt.ylabel(\"Residuals\")\n",
        "plt.title(\"Radio regression model on TV\")\n",
        "plt.xlim(0, 300)\n",
        "plt.ylim(-10,20)\n",
        "\n",
        "plt.subplot(3,3,5)\n",
        "sns.scatterplot(data=train, x=\"radio\", y=residual_radio);\n",
        "plt.xlabel(\"Radio\")\n",
        "plt.ylabel(\"Residuals\")\n",
        "plt.title(\"Radio regression model on radio\")\n",
        "plt.xlim(0, 55)\n",
        "plt.ylim(-10,20)\n",
        "\n",
        "plt.subplot(3,3,6)\n",
        "sns.scatterplot(data=train, x=\"newspaper\", y=residual_radio);\n",
        "plt.xlabel(\"Newspaper\")\n",
        "plt.ylabel(\"Residuals\")\n",
        "plt.title(\"Radio regression model on newspaper\")\n",
        "plt.xlim(0, 120)\n",
        "plt.ylim(-10,20)\n",
        "\n",
        "plt.subplot(3,3,7)\n",
        "sns.scatterplot(data=train, x=\"TV\", y=residual_news);\n",
        "plt.xlabel(\"TV\")\n",
        "plt.ylabel(\"Residuals\")\n",
        "plt.title(\"Newspaper regression model on TV\")\n",
        "plt.xlim(0, 300)\n",
        "plt.ylim(-10,20)\n",
        "\n",
        "plt.subplot(3,3,8)\n",
        "sns.scatterplot(data=train, x=\"radio\", y=residual_news);\n",
        "plt.xlabel(\"Radio\")\n",
        "plt.ylabel(\"Residuals\")\n",
        "plt.title(\"Newspaper regression model on radio\")\n",
        "plt.xlim(0, 55)\n",
        "plt.ylim(-10,20)\n",
        "\n",
        "plt.subplot(3,3,9)\n",
        "sns.scatterplot(data=train, x=\"newspaper\", y=residual_news);\n",
        "plt.xlabel(\"Newspaper\")\n",
        "plt.ylabel(\"Residuals\")\n",
        "plt.title(\"Newspaper regression model on newspaper\")\n",
        "plt.xlim(0, 120)\n",
        "plt.ylim(-10,20)\n"
      ],
      "metadata": {
        "colab": {
          "base_uri": "https://localhost:8080/",
          "height": 1000
        },
        "id": "8z1TdsZ1Z32u",
        "outputId": "befb2605-ca00-4af6-a328-ad7e3c3756df"
      },
      "id": "8z1TdsZ1Z32u",
      "execution_count": null,
      "outputs": [
        {
          "output_type": "stream",
          "name": "stderr",
          "text": [
            "/usr/local/lib/python3.7/dist-packages/sklearn/base.py:493: FutureWarning: The feature names should match those that were passed during fit. Starting version 1.2, an error will be raised.\n",
            "Feature names unseen at fit time:\n",
            "- radio\n",
            "Feature names seen at fit time, yet now missing:\n",
            "- TV\n",
            "\n",
            "  warnings.warn(message, FutureWarning)\n",
            "/usr/local/lib/python3.7/dist-packages/sklearn/base.py:493: FutureWarning: The feature names should match those that were passed during fit. Starting version 1.2, an error will be raised.\n",
            "Feature names unseen at fit time:\n",
            "- newspaper\n",
            "Feature names seen at fit time, yet now missing:\n",
            "- TV\n",
            "\n",
            "  warnings.warn(message, FutureWarning)\n"
          ]
        },
        {
          "output_type": "execute_result",
          "data": {
            "text/plain": [
              "<matplotlib.axes._subplots.AxesSubplot at 0x7fa069d77490>"
            ]
          },
          "metadata": {},
          "execution_count": 36
        },
        {
          "output_type": "execute_result",
          "data": {
            "text/plain": [
              "<matplotlib.axes._subplots.AxesSubplot at 0x7fa069d77490>"
            ]
          },
          "metadata": {},
          "execution_count": 36
        },
        {
          "output_type": "execute_result",
          "data": {
            "text/plain": [
              "Text(0.5, 0, 'TV')"
            ]
          },
          "metadata": {},
          "execution_count": 36
        },
        {
          "output_type": "execute_result",
          "data": {
            "text/plain": [
              "Text(0, 0.5, 'Residuals')"
            ]
          },
          "metadata": {},
          "execution_count": 36
        },
        {
          "output_type": "execute_result",
          "data": {
            "text/plain": [
              "Text(0.5, 1.0, 'TV regression model on TV')"
            ]
          },
          "metadata": {},
          "execution_count": 36
        },
        {
          "output_type": "execute_result",
          "data": {
            "text/plain": [
              "(0.0, 300.0)"
            ]
          },
          "metadata": {},
          "execution_count": 36
        },
        {
          "output_type": "execute_result",
          "data": {
            "text/plain": [
              "(-10.0, 20.0)"
            ]
          },
          "metadata": {},
          "execution_count": 36
        },
        {
          "output_type": "execute_result",
          "data": {
            "text/plain": [
              "<matplotlib.axes._subplots.AxesSubplot at 0x7fa06a2b6390>"
            ]
          },
          "metadata": {},
          "execution_count": 36
        },
        {
          "output_type": "execute_result",
          "data": {
            "text/plain": [
              "<matplotlib.axes._subplots.AxesSubplot at 0x7fa06a2b6390>"
            ]
          },
          "metadata": {},
          "execution_count": 36
        },
        {
          "output_type": "execute_result",
          "data": {
            "text/plain": [
              "Text(0.5, 0, 'Radio')"
            ]
          },
          "metadata": {},
          "execution_count": 36
        },
        {
          "output_type": "execute_result",
          "data": {
            "text/plain": [
              "Text(0, 0.5, 'Residuals')"
            ]
          },
          "metadata": {},
          "execution_count": 36
        },
        {
          "output_type": "execute_result",
          "data": {
            "text/plain": [
              "Text(0.5, 1.0, 'TV regression model on radio')"
            ]
          },
          "metadata": {},
          "execution_count": 36
        },
        {
          "output_type": "execute_result",
          "data": {
            "text/plain": [
              "(0.0, 55.0)"
            ]
          },
          "metadata": {},
          "execution_count": 36
        },
        {
          "output_type": "execute_result",
          "data": {
            "text/plain": [
              "(-10.0, 20.0)"
            ]
          },
          "metadata": {},
          "execution_count": 36
        },
        {
          "output_type": "execute_result",
          "data": {
            "text/plain": [
              "<matplotlib.axes._subplots.AxesSubplot at 0x7fa069dda510>"
            ]
          },
          "metadata": {},
          "execution_count": 36
        },
        {
          "output_type": "execute_result",
          "data": {
            "text/plain": [
              "<matplotlib.axes._subplots.AxesSubplot at 0x7fa069dda510>"
            ]
          },
          "metadata": {},
          "execution_count": 36
        },
        {
          "output_type": "execute_result",
          "data": {
            "text/plain": [
              "Text(0.5, 0, 'Newspaper')"
            ]
          },
          "metadata": {},
          "execution_count": 36
        },
        {
          "output_type": "execute_result",
          "data": {
            "text/plain": [
              "Text(0, 0.5, 'Residuals')"
            ]
          },
          "metadata": {},
          "execution_count": 36
        },
        {
          "output_type": "execute_result",
          "data": {
            "text/plain": [
              "Text(0.5, 1.0, 'TV regression model on newspaper')"
            ]
          },
          "metadata": {},
          "execution_count": 36
        },
        {
          "output_type": "execute_result",
          "data": {
            "text/plain": [
              "(0.0, 120.0)"
            ]
          },
          "metadata": {},
          "execution_count": 36
        },
        {
          "output_type": "execute_result",
          "data": {
            "text/plain": [
              "(-10.0, 20.0)"
            ]
          },
          "metadata": {},
          "execution_count": 36
        },
        {
          "output_type": "execute_result",
          "data": {
            "text/plain": [
              "<matplotlib.axes._subplots.AxesSubplot at 0x7fa069f804d0>"
            ]
          },
          "metadata": {},
          "execution_count": 36
        },
        {
          "output_type": "execute_result",
          "data": {
            "text/plain": [
              "<matplotlib.axes._subplots.AxesSubplot at 0x7fa069f804d0>"
            ]
          },
          "metadata": {},
          "execution_count": 36
        },
        {
          "output_type": "execute_result",
          "data": {
            "text/plain": [
              "Text(0.5, 0, 'TV')"
            ]
          },
          "metadata": {},
          "execution_count": 36
        },
        {
          "output_type": "execute_result",
          "data": {
            "text/plain": [
              "Text(0, 0.5, 'Residuals')"
            ]
          },
          "metadata": {},
          "execution_count": 36
        },
        {
          "output_type": "execute_result",
          "data": {
            "text/plain": [
              "Text(0.5, 1.0, 'Radio regression model on TV')"
            ]
          },
          "metadata": {},
          "execution_count": 36
        },
        {
          "output_type": "execute_result",
          "data": {
            "text/plain": [
              "(0.0, 300.0)"
            ]
          },
          "metadata": {},
          "execution_count": 36
        },
        {
          "output_type": "execute_result",
          "data": {
            "text/plain": [
              "(-10.0, 20.0)"
            ]
          },
          "metadata": {},
          "execution_count": 36
        },
        {
          "output_type": "execute_result",
          "data": {
            "text/plain": [
              "<matplotlib.axes._subplots.AxesSubplot at 0x7fa069e7e650>"
            ]
          },
          "metadata": {},
          "execution_count": 36
        },
        {
          "output_type": "execute_result",
          "data": {
            "text/plain": [
              "<matplotlib.axes._subplots.AxesSubplot at 0x7fa069e7e650>"
            ]
          },
          "metadata": {},
          "execution_count": 36
        },
        {
          "output_type": "execute_result",
          "data": {
            "text/plain": [
              "Text(0.5, 0, 'Radio')"
            ]
          },
          "metadata": {},
          "execution_count": 36
        },
        {
          "output_type": "execute_result",
          "data": {
            "text/plain": [
              "Text(0, 0.5, 'Residuals')"
            ]
          },
          "metadata": {},
          "execution_count": 36
        },
        {
          "output_type": "execute_result",
          "data": {
            "text/plain": [
              "Text(0.5, 1.0, 'Radio regression model on radio')"
            ]
          },
          "metadata": {},
          "execution_count": 36
        },
        {
          "output_type": "execute_result",
          "data": {
            "text/plain": [
              "(0.0, 55.0)"
            ]
          },
          "metadata": {},
          "execution_count": 36
        },
        {
          "output_type": "execute_result",
          "data": {
            "text/plain": [
              "(-10.0, 20.0)"
            ]
          },
          "metadata": {},
          "execution_count": 36
        },
        {
          "output_type": "execute_result",
          "data": {
            "text/plain": [
              "<matplotlib.axes._subplots.AxesSubplot at 0x7fa06dbf2750>"
            ]
          },
          "metadata": {},
          "execution_count": 36
        },
        {
          "output_type": "execute_result",
          "data": {
            "text/plain": [
              "<matplotlib.axes._subplots.AxesSubplot at 0x7fa06dbf2750>"
            ]
          },
          "metadata": {},
          "execution_count": 36
        },
        {
          "output_type": "execute_result",
          "data": {
            "text/plain": [
              "Text(0.5, 0, 'Newspaper')"
            ]
          },
          "metadata": {},
          "execution_count": 36
        },
        {
          "output_type": "execute_result",
          "data": {
            "text/plain": [
              "Text(0, 0.5, 'Residuals')"
            ]
          },
          "metadata": {},
          "execution_count": 36
        },
        {
          "output_type": "execute_result",
          "data": {
            "text/plain": [
              "Text(0.5, 1.0, 'Radio regression model on newspaper')"
            ]
          },
          "metadata": {},
          "execution_count": 36
        },
        {
          "output_type": "execute_result",
          "data": {
            "text/plain": [
              "(0.0, 120.0)"
            ]
          },
          "metadata": {},
          "execution_count": 36
        },
        {
          "output_type": "execute_result",
          "data": {
            "text/plain": [
              "(-10.0, 20.0)"
            ]
          },
          "metadata": {},
          "execution_count": 36
        },
        {
          "output_type": "execute_result",
          "data": {
            "text/plain": [
              "<matplotlib.axes._subplots.AxesSubplot at 0x7fa06a139f10>"
            ]
          },
          "metadata": {},
          "execution_count": 36
        },
        {
          "output_type": "execute_result",
          "data": {
            "text/plain": [
              "<matplotlib.axes._subplots.AxesSubplot at 0x7fa06a139f10>"
            ]
          },
          "metadata": {},
          "execution_count": 36
        },
        {
          "output_type": "execute_result",
          "data": {
            "text/plain": [
              "Text(0.5, 0, 'TV')"
            ]
          },
          "metadata": {},
          "execution_count": 36
        },
        {
          "output_type": "execute_result",
          "data": {
            "text/plain": [
              "Text(0, 0.5, 'Residuals')"
            ]
          },
          "metadata": {},
          "execution_count": 36
        },
        {
          "output_type": "execute_result",
          "data": {
            "text/plain": [
              "Text(0.5, 1.0, 'Newspaper regression model on TV')"
            ]
          },
          "metadata": {},
          "execution_count": 36
        },
        {
          "output_type": "execute_result",
          "data": {
            "text/plain": [
              "(0.0, 300.0)"
            ]
          },
          "metadata": {},
          "execution_count": 36
        },
        {
          "output_type": "execute_result",
          "data": {
            "text/plain": [
              "(-10.0, 20.0)"
            ]
          },
          "metadata": {},
          "execution_count": 36
        },
        {
          "output_type": "execute_result",
          "data": {
            "text/plain": [
              "<matplotlib.axes._subplots.AxesSubplot at 0x7fa069c6d990>"
            ]
          },
          "metadata": {},
          "execution_count": 36
        },
        {
          "output_type": "execute_result",
          "data": {
            "text/plain": [
              "<matplotlib.axes._subplots.AxesSubplot at 0x7fa069c6d990>"
            ]
          },
          "metadata": {},
          "execution_count": 36
        },
        {
          "output_type": "execute_result",
          "data": {
            "text/plain": [
              "Text(0.5, 0, 'Radio')"
            ]
          },
          "metadata": {},
          "execution_count": 36
        },
        {
          "output_type": "execute_result",
          "data": {
            "text/plain": [
              "Text(0, 0.5, 'Residuals')"
            ]
          },
          "metadata": {},
          "execution_count": 36
        },
        {
          "output_type": "execute_result",
          "data": {
            "text/plain": [
              "Text(0.5, 1.0, 'Newspaper regression model on radio')"
            ]
          },
          "metadata": {},
          "execution_count": 36
        },
        {
          "output_type": "execute_result",
          "data": {
            "text/plain": [
              "(0.0, 55.0)"
            ]
          },
          "metadata": {},
          "execution_count": 36
        },
        {
          "output_type": "execute_result",
          "data": {
            "text/plain": [
              "(-10.0, 20.0)"
            ]
          },
          "metadata": {},
          "execution_count": 36
        },
        {
          "output_type": "execute_result",
          "data": {
            "text/plain": [
              "<matplotlib.axes._subplots.AxesSubplot at 0x7fa069c7a610>"
            ]
          },
          "metadata": {},
          "execution_count": 36
        },
        {
          "output_type": "execute_result",
          "data": {
            "text/plain": [
              "<matplotlib.axes._subplots.AxesSubplot at 0x7fa069c7a610>"
            ]
          },
          "metadata": {},
          "execution_count": 36
        },
        {
          "output_type": "execute_result",
          "data": {
            "text/plain": [
              "Text(0.5, 0, 'Newspaper')"
            ]
          },
          "metadata": {},
          "execution_count": 36
        },
        {
          "output_type": "execute_result",
          "data": {
            "text/plain": [
              "Text(0, 0.5, 'Residuals')"
            ]
          },
          "metadata": {},
          "execution_count": 36
        },
        {
          "output_type": "execute_result",
          "data": {
            "text/plain": [
              "Text(0.5, 1.0, 'Newspaper regression model on newspaper')"
            ]
          },
          "metadata": {},
          "execution_count": 36
        },
        {
          "output_type": "execute_result",
          "data": {
            "text/plain": [
              "(0.0, 120.0)"
            ]
          },
          "metadata": {},
          "execution_count": 36
        },
        {
          "output_type": "execute_result",
          "data": {
            "text/plain": [
              "(-10.0, 20.0)"
            ]
          },
          "metadata": {},
          "execution_count": 36
        },
        {
          "output_type": "display_data",
          "data": {
            "text/plain": [
              "<Figure size 1080x1800 with 9 Axes>"
            ],
            "image/png": "[encoded data removed]"
          },
          "metadata": {}
        }
      ]
    },
    {
      "cell_type": "markdown",
      "metadata": {
        "id": "Y6nvcxDFYQpH"
      },
      "source": [
        "### 3. Try a multiple linear regression\n",
        "\n",
        "Next, fit a multiple linear regression to predict product sales, using\n",
        "all three features to train a single model: TV ad budget, radio ad\n",
        "budget, and newspaper ad budget.\n",
        "\n",
        "Print the intercept and coefficients, and compute the MSE and R2 on the\n",
        "training data, and MSE and R2 on the test data. Comment on the results.\n",
        "Make sure to explain any differences between the coefficients of the\n",
        "multiple regression model, and the coefficients of the three simple\n",
        "linear regression models. If they are different, why?\n",
        "\n",
        "**The code in the first part of this section is provided for you**.\n",
        "However, you will need to add comments, observations, and answers to the\n",
        "questions.\n",
        "\n",
        "Also repeat the analysis of part (3) for this regression model. Use\n",
        "training data for all of these items:\n",
        "\n",
        "**Plot 1**: Create a scatter plot of predicted sales ($\\hat{y}$) on the\n",
        "vertical axis, and actual sales ($y$) on the horizontal axis. Make sure\n",
        "both axes use the same scale (the range of the vertical axis should be\n",
        "the same as the range of the vertical axis). Label each axes. Does this\n",
        "model explain the data more effectively than the simple linear\n",
        "regressions from the previous section?\n",
        "\n",
        "**Plot 2**: Create a scatter plot with the residuals ($y - \\hat{y}$) on\n",
        "the vertical axis, and actual sales ($y$) on the horizontal axis.\n",
        "Comment on your observations. Is there a pattern in the residuals (and\n",
        "if so, what might it indicate), or do they appear to have no pattern\n",
        "with respect to actual sales?\n",
        "\n",
        "**Plot 3**: For each of the three features, plot the residuals\n",
        "($y - \\hat{y}$) on the vertical axis, and the feature ($x$) on the\n",
        "horizontal axis. Make sure to clearly label each axis. Is there a\n",
        "pattern in the residuals (and if so, what might it indicate), or do they\n",
        "appear to have no pattern with respect to each of the three features?\n",
        "\n",
        "------------------------------------------------------------------------\n",
        "\n",
        "Note that in general, to earn full credit, plots must:\n",
        "\n",
        "-   Be readable (especially text size).\n",
        "-   Have a label on each axis.\n",
        "-   Have an appropriate range for each axis. When there are multiple\n",
        "    subplots, if the goal is to compare similar things in different\n",
        "    subplots, in most cases it is appropriate for them all to use the\n",
        "    same range.\n",
        "-   If there are multiple subplots, or multiple data series in the same\n",
        "    plot, it must be made clear which is which."
      ],
      "id": "Y6nvcxDFYQpH"
    },
    {
      "cell_type": "markdown",
      "metadata": {
        "id": "2hB3fM6SYQpJ"
      },
      "source": [
        "#### Fit a multiple linear regression"
      ],
      "id": "2hB3fM6SYQpJ"
    },
    {
      "cell_type": "code",
      "execution_count": null,
      "metadata": {
        "id": "nn8mMtmHYQpJ"
      },
      "outputs": [],
      "source": [
        "reg_multi = LinearRegression().fit(train[['TV', 'radio', 'newspaper']], train['sales'])"
      ],
      "id": "nn8mMtmHYQpJ"
    },
    {
      "cell_type": "markdown",
      "metadata": {
        "id": "bjAjIEQ6YQpK"
      },
      "source": [
        "#### Look at coefficients"
      ],
      "id": "bjAjIEQ6YQpK"
    },
    {
      "cell_type": "code",
      "execution_count": null,
      "metadata": {
        "id": "7_2LiBLfYQpK",
        "colab": {
          "base_uri": "https://localhost:8080/"
        },
        "outputId": "ee81b851-6c20-4df8-8ec3-beb1fe4328db"
      },
      "outputs": [
        {
          "output_type": "stream",
          "name": "stdout",
          "text": [
            "Coefficients (TV, radio, newspaper): [ 0.04636712  0.18249225 -0.00196151]\n",
            "Intercept:  3.0762941463550604\n"
          ]
        }
      ],
      "source": [
        "print(\"Coefficients (TV, radio, newspaper):\", reg_multi.coef_)\n",
        "print(\"Intercept: \", reg_multi.intercept_)"
      ],
      "id": "7_2LiBLfYQpK"
    },
    {
      "cell_type": "markdown",
      "metadata": {
        "id": "AOtPWic9YQpL"
      },
      "source": [
        "#### Compute R2, MSE for multiple regression"
      ],
      "id": "AOtPWic9YQpL"
    },
    {
      "cell_type": "code",
      "execution_count": null,
      "metadata": {
        "id": "s6Snhc2sYQpL",
        "colab": {
          "base_uri": "https://localhost:8080/"
        },
        "outputId": "3e6a7684-6815-48ea-9820-f0cb6f5c082c"
      },
      "outputs": [
        {
          "output_type": "stream",
          "name": "stdout",
          "text": [
            "Multiple regression R2:   0.8934006397815405\n",
            "Multiple regression MSE:  2.952755722412376\n"
          ]
        }
      ],
      "source": [
        "y_pred_tr_multi = reg_multi.predict(train[['TV', 'radio', 'newspaper']])\n",
        "\n",
        "r2_tr_multi  = metrics.r2_score(train['sales'], y_pred_tr_multi)\n",
        "mse_tr_multi = metrics.mean_squared_error(train['sales'], y_pred_tr_multi)\n",
        "\n",
        "print(\"Multiple regression R2:  \", r2_tr_multi)\n",
        "print(\"Multiple regression MSE: \", mse_tr_multi)\n"
      ],
      "id": "s6Snhc2sYQpL"
    },
    {
      "cell_type": "code",
      "execution_count": null,
      "metadata": {
        "id": "lQ1mZ0lYYQpP",
        "colab": {
          "base_uri": "https://localhost:8080/"
        },
        "outputId": "0371d8ad-8f87-4a16-fd39-792cdfd79d11"
      },
      "outputs": [
        {
          "output_type": "stream",
          "name": "stdout",
          "text": [
            "Multiple regression R2:   0.9034495005656622\n",
            "Multiple regression MSE:  2.4406300760885373\n"
          ]
        }
      ],
      "source": [
        "y_pred_ts_multi = reg_multi.predict(test[['TV', 'radio', 'newspaper']])\n",
        "\n",
        "r2_ts_multi  = metrics.r2_score(test['sales'], y_pred_ts_multi)\n",
        "mse_ts_multi = metrics.mean_squared_error(test['sales'], y_pred_ts_multi)\n",
        "\n",
        "print(\"Multiple regression R2:  \", r2_ts_multi)\n",
        "print(\"Multiple regression MSE: \", mse_ts_multi)\n"
      ],
      "id": "lQ1mZ0lYYQpP"
    },
    {
      "cell_type": "code",
      "source": [
        "train[['TV', 'radio', 'newspaper']].corr()"
      ],
      "metadata": {
        "colab": {
          "base_uri": "https://localhost:8080/",
          "height": 143
        },
        "id": "kJor929XjE2r",
        "outputId": "8b942556-34ab-46c8-8393-07ba254a412c"
      },
      "id": "kJor929XjE2r",
      "execution_count": null,
      "outputs": [
        {
          "output_type": "execute_result",
          "data": {
            "text/plain": [
              "                 TV     radio  newspaper\n",
              "TV         1.000000  0.106568   0.057997\n",
              "radio      0.106568  1.000000   0.314422\n",
              "newspaper  0.057997  0.314422   1.000000"
            ],
            "text/html": [
              "\n",
              "  <div id=\"df-b5f8f4ff-8b92-4375-a9f7-7d18f36f00ea\">\n",
              "    <div class=\"colab-df-container\">\n",
              "      <div>\n",
              "<style scoped>\n",
              "    .dataframe tbody tr th:only-of-type {\n",
              "        vertical-align: middle;\n",
              "    }\n",
              "\n",
              "    .dataframe tbody tr th {\n",
              "        vertical-align: top;\n",
              "    }\n",
              "\n",
              "    .dataframe thead th {\n",
              "        text-align: right;\n",
              "    }\n",
              "</style>\n",
              "<table border=\"1\" class=\"dataframe\">\n",
              "  <thead>\n",
              "    <tr style=\"text-align: right;\">\n",
              "      <th></th>\n",
              "      <th>TV</th>\n",
              "      <th>radio</th>\n",
              "      <th>newspaper</th>\n",
              "    </tr>\n",
              "  </thead>\n",
              "  <tbody>\n",
              "    <tr>\n",
              "      <th>TV</th>\n",
              "      <td>1.000000</td>\n",
              "      <td>0.106568</td>\n",
              "      <td>0.057997</td>\n",
              "    </tr>\n",
              "    <tr>\n",
              "      <th>radio</th>\n",
              "      <td>0.106568</td>\n",
              "      <td>1.000000</td>\n",
              "      <td>0.314422</td>\n",
              "    </tr>\n",
              "    <tr>\n",
              "      <th>newspaper</th>\n",
              "      <td>0.057997</td>\n",
              "      <td>0.314422</td>\n",
              "      <td>1.000000</td>\n",
              "    </tr>\n",
              "  </tbody>\n",
              "</table>\n",
              "</div>\n",
              "      <button class=\"colab-df-convert\" onclick=\"convertToInteractive('df-b5f8f4ff-8b92-4375-a9f7-7d18f36f00ea')\"\n",
              "              title=\"Convert this dataframe to an interactive table.\"\n",
              "              style=\"display:none;\">\n",
              "        \n",
              "  <svg xmlns=\"http://www.w3.org/2000/svg\" height=\"24px\"viewBox=\"0 0 24 24\"\n",
              "       width=\"24px\">\n",
              "    <path d=\"M0 0h24v24H0V0z\" fill=\"none\"/>\n",
              "    <path d=\"M18.56 5.44l.94 2.06.94-2.06 2.06-.94-2.06-.94-.94-2.06-.94 2.06-2.06.94zm-11 1L8.5 8.5l.94-2.06 2.06-.94-2.06-.94L8.5 2.5l-.94 2.06-2.06.94zm10 10l.94 2.06.94-2.06 2.06-.94-2.06-.94-.94-2.06-.94 2.06-2.06.94z\"/><path d=\"M17.41 7.96l-1.37-1.37c-.4-.4-.92-.59-1.43-.59-.52 0-1.04.2-1.43.59L10.3 9.45l-7.72 7.72c-.78.78-.78 2.05 0 2.83L4 21.41c.39.39.9.59 1.41.59.51 0 1.02-.2 1.41-.59l7.78-7.78 2.81-2.81c.8-.78.8-2.07 0-2.86zM5.41 20L4 18.59l7.72-7.72 1.47 1.35L5.41 20z\"/>\n",
              "  </svg>\n",
              "      </button>\n",
              "      \n",
              "  <style>\n",
              "    .colab-df-container {\n",
              "      display:flex;\n",
              "      flex-wrap:wrap;\n",
              "      gap: 12px;\n",
              "    }\n",
              "\n",
              "    .colab-df-convert {\n",
              "      background-color: #E8F0FE;\n",
              "      border: none;\n",
              "      border-radius: 50%;\n",
              "      cursor: pointer;\n",
              "      display: none;\n",
              "      fill: #1967D2;\n",
              "      height: 32px;\n",
              "      padding: 0 0 0 0;\n",
              "      width: 32px;\n",
              "    }\n",
              "\n",
              "    .colab-df-convert:hover {\n",
              "      background-color: #E2EBFA;\n",
              "      box-shadow: 0px 1px 2px rgba(60, 64, 67, 0.3), 0px 1px 3px 1px rgba(60, 64, 67, 0.15);\n",
              "      fill: #174EA6;\n",
              "    }\n",
              "\n",
              "    [theme=dark] .colab-df-convert {\n",
              "      background-color: #3B4455;\n",
              "      fill: #D2E3FC;\n",
              "    }\n",
              "\n",
              "    [theme=dark] .colab-df-convert:hover {\n",
              "      background-color: #434B5C;\n",
              "      box-shadow: 0px 1px 3px 1px rgba(0, 0, 0, 0.15);\n",
              "      filter: drop-shadow(0px 1px 2px rgba(0, 0, 0, 0.3));\n",
              "      fill: #FFFFFF;\n",
              "    }\n",
              "  </style>\n",
              "\n",
              "      <script>\n",
              "        const buttonEl =\n",
              "          document.querySelector('#df-b5f8f4ff-8b92-4375-a9f7-7d18f36f00ea button.colab-df-convert');\n",
              "        buttonEl.style.display =\n",
              "          google.colab.kernel.accessAllowed ? 'block' : 'none';\n",
              "\n",
              "        async function convertToInteractive(key) {\n",
              "          const element = document.querySelector('#df-b5f8f4ff-8b92-4375-a9f7-7d18f36f00ea');\n",
              "          const dataTable =\n",
              "            await google.colab.kernel.invokeFunction('convertToInteractive',\n",
              "                                                     [key], {});\n",
              "          if (!dataTable) return;\n",
              "\n",
              "          const docLinkHtml = 'Like what you see? Visit the ' +\n",
              "            '<a target=\"_blank\" href=https://colab.research.google.com/notebooks/data_table.ipynb>data table notebook</a>'\n",
              "            + ' to learn more about interactive tables.';\n",
              "          element.innerHTML = '';\n",
              "          dataTable['output_type'] = 'display_data';\n",
              "          await google.colab.output.renderOutput(dataTable, element);\n",
              "          const docLink = document.createElement('div');\n",
              "          docLink.innerHTML = docLinkHtml;\n",
              "          element.appendChild(docLink);\n",
              "        }\n",
              "      </script>\n",
              "    </div>\n",
              "  </div>\n",
              "  "
            ]
          },
          "metadata": {},
          "execution_count": 41
        }
      ]
    },
    {
      "cell_type": "code",
      "source": [
        "sns.scatterplot(data=train, x=\"sales\", y=y_pred_tr_multi);\n",
        "plt.xlabel(\"Actual sales\")\n",
        "plt.ylabel(\"Predicted sales\")\n",
        "plt.title(\"multiple-predicted-vs-true\")\n",
        "plt.xlim(0, 30)\n",
        "plt.ylim(0,30)"
      ],
      "metadata": {
        "colab": {
          "base_uri": "https://localhost:8080/",
          "height": 356
        },
        "id": "wLhFLC3tkZBP",
        "outputId": "aaf4050f-8299-4c4b-b739-06d38d67138b"
      },
      "id": "wLhFLC3tkZBP",
      "execution_count": null,
      "outputs": [
        {
          "output_type": "execute_result",
          "data": {
            "text/plain": [
              "<matplotlib.axes._subplots.AxesSubplot at 0x7fa069e5f350>"
            ]
          },
          "metadata": {},
          "execution_count": 42
        },
        {
          "output_type": "execute_result",
          "data": {
            "text/plain": [
              "Text(0.5, 0, 'Actual sales')"
            ]
          },
          "metadata": {},
          "execution_count": 42
        },
        {
          "output_type": "execute_result",
          "data": {
            "text/plain": [
              "Text(0, 0.5, 'Predicted sales')"
            ]
          },
          "metadata": {},
          "execution_count": 42
        },
        {
          "output_type": "execute_result",
          "data": {
            "text/plain": [
              "Text(0.5, 1.0, 'multiple-predicted-vs-true')"
            ]
          },
          "metadata": {},
          "execution_count": 42
        },
        {
          "output_type": "execute_result",
          "data": {
            "text/plain": [
              "(0.0, 30.0)"
            ]
          },
          "metadata": {},
          "execution_count": 42
        },
        {
          "output_type": "execute_result",
          "data": {
            "text/plain": [
              "(0.0, 30.0)"
            ]
          },
          "metadata": {},
          "execution_count": 42
        },
        {
          "output_type": "display_data",
          "data": {
            "text/plain": [
              "<Figure size 432x288 with 1 Axes>"
            ],
            "image/png": "[encoded data removed]"
          },
          "metadata": {}
        }
      ]
    },
    {
      "cell_type": "code",
      "source": [
        "residuals = train[\"sales\"]- y_pred_tr_multi\n",
        "\n",
        "sns.scatterplot(data=train, x=\"sales\", y=residuals);\n",
        "plt.xlabel(\"Actual sales\")\n",
        "plt.ylabel(\"Residuals\")\n",
        "plt.title(\"Residuals of multiple regression model vs actual sales\")\n",
        "plt.xlim(0, 30)\n",
        "plt.ylim(-10,10)"
      ],
      "metadata": {
        "colab": {
          "base_uri": "https://localhost:8080/",
          "height": 356
        },
        "id": "qe9zLv9lmAd3",
        "outputId": "48658bc2-abab-4bda-8a35-c1ab0b9c9ae0"
      },
      "id": "qe9zLv9lmAd3",
      "execution_count": null,
      "outputs": [
        {
          "output_type": "execute_result",
          "data": {
            "text/plain": [
              "<matplotlib.axes._subplots.AxesSubplot at 0x7fa06bbb5d50>"
            ]
          },
          "metadata": {},
          "execution_count": 46
        },
        {
          "output_type": "execute_result",
          "data": {
            "text/plain": [
              "Text(0.5, 0, 'Actual sales')"
            ]
          },
          "metadata": {},
          "execution_count": 46
        },
        {
          "output_type": "execute_result",
          "data": {
            "text/plain": [
              "Text(0, 0.5, 'Residuals')"
            ]
          },
          "metadata": {},
          "execution_count": 46
        },
        {
          "output_type": "execute_result",
          "data": {
            "text/plain": [
              "Text(0.5, 1.0, 'Residuals of multiple regression model vs actual sales')"
            ]
          },
          "metadata": {},
          "execution_count": 46
        },
        {
          "output_type": "execute_result",
          "data": {
            "text/plain": [
              "(0.0, 30.0)"
            ]
          },
          "metadata": {},
          "execution_count": 46
        },
        {
          "output_type": "execute_result",
          "data": {
            "text/plain": [
              "(-10.0, 10.0)"
            ]
          },
          "metadata": {},
          "execution_count": 46
        },
        {
          "output_type": "display_data",
          "data": {
            "text/plain": [
              "<Figure size 432x288 with 1 Axes>"
            ],
            "image/png": "[encoded data removed]"
          },
          "metadata": {}
        }
      ]
    },
    {
      "cell_type": "code",
      "source": [
        "fig = plt.figure(figsize=(20,5))\n",
        "#plt.subplots_adjust(left=1, right=2.2, bottom=1, top=1.5)\n",
        "\n",
        "plt.subplot(1,3,1)\n",
        "sns.scatterplot(data=train, x=\"TV\", y=residuals);\n",
        "plt.xlabel(\"TV\")\n",
        "plt.ylabel(\"Residuals\")\n",
        "plt.title(\"Residuals of multiple regression model vs TV\")\n",
        "plt.xlim(0, 300)\n",
        "plt.ylim(-10,10)\n",
        "\n",
        "plt.subplot(1,3,2)\n",
        "sns.scatterplot(data=train, x=\"radio\", y=residuals);\n",
        "plt.xlabel(\"Radio\")\n",
        "plt.ylabel(\"Residuals\")\n",
        "plt.title(\"Residuals of multiple regression model vs radio\")\n",
        "plt.xlim(0, 55)\n",
        "plt.ylim(-10,10)\n",
        "\n",
        "plt.subplot(1,3,3)\n",
        "sns.scatterplot(data=train, x=\"newspaper\", y=residuals);\n",
        "plt.xlabel(\"Newspaper\")\n",
        "plt.ylabel(\"Residuals\")\n",
        "plt.title(\"Residuals of multiple regression model vs newspaper\")\n",
        "plt.xlim(0, 120)\n",
        "plt.ylim(-10,10)"
      ],
      "metadata": {
        "colab": {
          "base_uri": "https://localhost:8080/",
          "height": 496
        },
        "id": "SG0tgyIXnqGH",
        "outputId": "51f226af-7523-4cf3-95e1-689535219fc2"
      },
      "id": "SG0tgyIXnqGH",
      "execution_count": null,
      "outputs": [
        {
          "output_type": "execute_result",
          "data": {
            "text/plain": [
              "<matplotlib.axes._subplots.AxesSubplot at 0x7fa069df4510>"
            ]
          },
          "metadata": {},
          "execution_count": 56
        },
        {
          "output_type": "execute_result",
          "data": {
            "text/plain": [
              "<matplotlib.axes._subplots.AxesSubplot at 0x7fa069df4510>"
            ]
          },
          "metadata": {},
          "execution_count": 56
        },
        {
          "output_type": "execute_result",
          "data": {
            "text/plain": [
              "Text(0.5, 0, 'TV')"
            ]
          },
          "metadata": {},
          "execution_count": 56
        },
        {
          "output_type": "execute_result",
          "data": {
            "text/plain": [
              "Text(0, 0.5, 'Residuals')"
            ]
          },
          "metadata": {},
          "execution_count": 56
        },
        {
          "output_type": "execute_result",
          "data": {
            "text/plain": [
              "Text(0.5, 1.0, 'Residuals of multiple regression model vs TV')"
            ]
          },
          "metadata": {},
          "execution_count": 56
        },
        {
          "output_type": "execute_result",
          "data": {
            "text/plain": [
              "(0.0, 300.0)"
            ]
          },
          "metadata": {},
          "execution_count": 56
        },
        {
          "output_type": "execute_result",
          "data": {
            "text/plain": [
              "(-10.0, 10.0)"
            ]
          },
          "metadata": {},
          "execution_count": 56
        },
        {
          "output_type": "execute_result",
          "data": {
            "text/plain": [
              "<matplotlib.axes._subplots.AxesSubplot at 0x7fa069e0c810>"
            ]
          },
          "metadata": {},
          "execution_count": 56
        },
        {
          "output_type": "execute_result",
          "data": {
            "text/plain": [
              "<matplotlib.axes._subplots.AxesSubplot at 0x7fa069e0c810>"
            ]
          },
          "metadata": {},
          "execution_count": 56
        },
        {
          "output_type": "execute_result",
          "data": {
            "text/plain": [
              "Text(0.5, 0, 'Radio')"
            ]
          },
          "metadata": {},
          "execution_count": 56
        },
        {
          "output_type": "execute_result",
          "data": {
            "text/plain": [
              "Text(0, 0.5, 'Residuals')"
            ]
          },
          "metadata": {},
          "execution_count": 56
        },
        {
          "output_type": "execute_result",
          "data": {
            "text/plain": [
              "Text(0.5, 1.0, 'Residuals of multiple regression model vs radio')"
            ]
          },
          "metadata": {},
          "execution_count": 56
        },
        {
          "output_type": "execute_result",
          "data": {
            "text/plain": [
              "(0.0, 55.0)"
            ]
          },
          "metadata": {},
          "execution_count": 56
        },
        {
          "output_type": "execute_result",
          "data": {
            "text/plain": [
              "(-10.0, 10.0)"
            ]
          },
          "metadata": {},
          "execution_count": 56
        },
        {
          "output_type": "execute_result",
          "data": {
            "text/plain": [
              "<matplotlib.axes._subplots.AxesSubplot at 0x7fa069db3090>"
            ]
          },
          "metadata": {},
          "execution_count": 56
        },
        {
          "output_type": "execute_result",
          "data": {
            "text/plain": [
              "<matplotlib.axes._subplots.AxesSubplot at 0x7fa069db3090>"
            ]
          },
          "metadata": {},
          "execution_count": 56
        },
        {
          "output_type": "execute_result",
          "data": {
            "text/plain": [
              "Text(0.5, 0, 'Newspaper')"
            ]
          },
          "metadata": {},
          "execution_count": 56
        },
        {
          "output_type": "execute_result",
          "data": {
            "text/plain": [
              "Text(0, 0.5, 'Residuals')"
            ]
          },
          "metadata": {},
          "execution_count": 56
        },
        {
          "output_type": "execute_result",
          "data": {
            "text/plain": [
              "Text(0.5, 1.0, 'Residuals of multiple regression model vs newspaper')"
            ]
          },
          "metadata": {},
          "execution_count": 56
        },
        {
          "output_type": "execute_result",
          "data": {
            "text/plain": [
              "(0.0, 120.0)"
            ]
          },
          "metadata": {},
          "execution_count": 56
        },
        {
          "output_type": "execute_result",
          "data": {
            "text/plain": [
              "(-10.0, 10.0)"
            ]
          },
          "metadata": {},
          "execution_count": 56
        },
        {
          "output_type": "display_data",
          "data": {
            "text/plain": [
              "<Figure size 1440x360 with 3 Axes>"
            ],
            "image/png": "[encoded data removed]"
          },
          "metadata": {}
        }
      ]
    },
    {
      "cell_type": "code",
      "source": [
        "train=train.assign(newspaper_radio=train[\"newspaper\"]*train[\"radio\"], TV_radio=train[\"TV\"]*train[\"radio\"], \n",
        "             newspaper_TV=train[\"newspaper\"]*train[\"TV\"], newspaper_radio_TV=train[\"newspaper\"]*train[\"radio\"]*train[\"TV\"])\n",
        "train.head()\n",
        "\n",
        "test=test.assign(newspaper_radio=test[\"newspaper\"]*test[\"radio\"], TV_radio=test[\"TV\"]*test[\"radio\"], \n",
        "             newspaper_TV=test[\"newspaper\"]*test[\"TV\"], newspaper_radio_TV=test[\"newspaper\"]*test[\"radio\"]*test[\"TV\"])\n",
        "test.head()"
      ],
      "metadata": {
        "colab": {
          "base_uri": "https://localhost:8080/",
          "height": 395
        },
        "id": "qIiwnSP4qlt7",
        "outputId": "396f8d08-d77c-4e17-97ee-039fd2166115"
      },
      "id": "qIiwnSP4qlt7",
      "execution_count": null,
      "outputs": [
        {
          "output_type": "execute_result",
          "data": {
            "text/plain": [
              "        TV  radio  newspaper  sales  newspaper_radio  TV_radio  newspaper_TV  \\\n",
              "134  219.8   33.5       45.1   19.6          1510.85   7363.30       9912.98   \n",
              "137   25.6   39.0        9.3    9.5           362.70    998.40        238.08   \n",
              "155  187.8   21.1        9.5   15.6           200.45   3962.58       1784.10   \n",
              "178  170.2    7.8       35.2   11.7           274.56   1327.56       5991.04   \n",
              "69   237.4   27.5       11.0   18.9           302.50   6528.50       2611.40   \n",
              "\n",
              "     newspaper_radio_TV  \n",
              "134          332084.830  \n",
              "137            9285.120  \n",
              "155           37644.510  \n",
              "178           46730.112  \n",
              "69            71813.500  "
            ],
            "text/html": [
              "\n",
              "  <div id=\"df-e4a04011-efb9-4ac5-b61b-d561272e5fd2\">\n",
              "    <div class=\"colab-df-container\">\n",
              "      <div>\n",
              "<style scoped>\n",
              "    .dataframe tbody tr th:only-of-type {\n",
              "        vertical-align: middle;\n",
              "    }\n",
              "\n",
              "    .dataframe tbody tr th {\n",
              "        vertical-align: top;\n",
              "    }\n",
              "\n",
              "    .dataframe thead th {\n",
              "        text-align: right;\n",
              "    }\n",
              "</style>\n",
              "<table border=\"1\" class=\"dataframe\">\n",
              "  <thead>\n",
              "    <tr style=\"text-align: right;\">\n",
              "      <th></th>\n",
              "      <th>TV</th>\n",
              "      <th>radio</th>\n",
              "      <th>newspaper</th>\n",
              "      <th>sales</th>\n",
              "      <th>newspaper_radio</th>\n",
              "      <th>TV_radio</th>\n",
              "      <th>newspaper_TV</th>\n",
              "      <th>newspaper_radio_TV</th>\n",
              "    </tr>\n",
              "  </thead>\n",
              "  <tbody>\n",
              "    <tr>\n",
              "      <th>134</th>\n",
              "      <td>219.8</td>\n",
              "      <td>33.5</td>\n",
              "      <td>45.1</td>\n",
              "      <td>19.6</td>\n",
              "      <td>1510.85</td>\n",
              "      <td>7363.30</td>\n",
              "      <td>9912.98</td>\n",
              "      <td>332084.830</td>\n",
              "    </tr>\n",
              "    <tr>\n",
              "      <th>137</th>\n",
              "      <td>25.6</td>\n",
              "      <td>39.0</td>\n",
              "      <td>9.3</td>\n",
              "      <td>9.5</td>\n",
              "      <td>362.70</td>\n",
              "      <td>998.40</td>\n",
              "      <td>238.08</td>\n",
              "      <td>9285.120</td>\n",
              "    </tr>\n",
              "    <tr>\n",
              "      <th>155</th>\n",
              "      <td>187.8</td>\n",
              "      <td>21.1</td>\n",
              "      <td>9.5</td>\n",
              "      <td>15.6</td>\n",
              "      <td>200.45</td>\n",
              "      <td>3962.58</td>\n",
              "      <td>1784.10</td>\n",
              "      <td>37644.510</td>\n",
              "    </tr>\n",
              "    <tr>\n",
              "      <th>178</th>\n",
              "      <td>170.2</td>\n",
              "      <td>7.8</td>\n",
              "      <td>35.2</td>\n",
              "      <td>11.7</td>\n",
              "      <td>274.56</td>\n",
              "      <td>1327.56</td>\n",
              "      <td>5991.04</td>\n",
              "      <td>46730.112</td>\n",
              "    </tr>\n",
              "    <tr>\n",
              "      <th>69</th>\n",
              "      <td>237.4</td>\n",
              "      <td>27.5</td>\n",
              "      <td>11.0</td>\n",
              "      <td>18.9</td>\n",
              "      <td>302.50</td>\n",
              "      <td>6528.50</td>\n",
              "      <td>2611.40</td>\n",
              "      <td>71813.500</td>\n",
              "    </tr>\n",
              "  </tbody>\n",
              "</table>\n",
              "</div>\n",
              "      <button class=\"colab-df-convert\" onclick=\"convertToInteractive('df-e4a04011-efb9-4ac5-b61b-d561272e5fd2')\"\n",
              "              title=\"Convert this dataframe to an interactive table.\"\n",
              "              style=\"display:none;\">\n",
              "        \n",
              "  <svg xmlns=\"http://www.w3.org/2000/svg\" height=\"24px\"viewBox=\"0 0 24 24\"\n",
              "       width=\"24px\">\n",
              "    <path d=\"M0 0h24v24H0V0z\" fill=\"none\"/>\n",
              "    <path d=\"M18.56 5.44l.94 2.06.94-2.06 2.06-.94-2.06-.94-.94-2.06-.94 2.06-2.06.94zm-11 1L8.5 8.5l.94-2.06 2.06-.94-2.06-.94L8.5 2.5l-.94 2.06-2.06.94zm10 10l.94 2.06.94-2.06 2.06-.94-2.06-.94-.94-2.06-.94 2.06-2.06.94z\"/><path d=\"M17.41 7.96l-1.37-1.37c-.4-.4-.92-.59-1.43-.59-.52 0-1.04.2-1.43.59L10.3 9.45l-7.72 7.72c-.78.78-.78 2.05 0 2.83L4 21.41c.39.39.9.59 1.41.59.51 0 1.02-.2 1.41-.59l7.78-7.78 2.81-2.81c.8-.78.8-2.07 0-2.86zM5.41 20L4 18.59l7.72-7.72 1.47 1.35L5.41 20z\"/>\n",
              "  </svg>\n",
              "      </button>\n",
              "      \n",
              "  <style>\n",
              "    .colab-df-container {\n",
              "      display:flex;\n",
              "      flex-wrap:wrap;\n",
              "      gap: 12px;\n",
              "    }\n",
              "\n",
              "    .colab-df-convert {\n",
              "      background-color: #E8F0FE;\n",
              "      border: none;\n",
              "      border-radius: 50%;\n",
              "      cursor: pointer;\n",
              "      display: none;\n",
              "      fill: #1967D2;\n",
              "      height: 32px;\n",
              "      padding: 0 0 0 0;\n",
              "      width: 32px;\n",
              "    }\n",
              "\n",
              "    .colab-df-convert:hover {\n",
              "      background-color: #E2EBFA;\n",
              "      box-shadow: 0px 1px 2px rgba(60, 64, 67, 0.3), 0px 1px 3px 1px rgba(60, 64, 67, 0.15);\n",
              "      fill: #174EA6;\n",
              "    }\n",
              "\n",
              "    [theme=dark] .colab-df-convert {\n",
              "      background-color: #3B4455;\n",
              "      fill: #D2E3FC;\n",
              "    }\n",
              "\n",
              "    [theme=dark] .colab-df-convert:hover {\n",
              "      background-color: #434B5C;\n",
              "      box-shadow: 0px 1px 3px 1px rgba(0, 0, 0, 0.15);\n",
              "      filter: drop-shadow(0px 1px 2px rgba(0, 0, 0, 0.3));\n",
              "      fill: #FFFFFF;\n",
              "    }\n",
              "  </style>\n",
              "\n",
              "      <script>\n",
              "        const buttonEl =\n",
              "          document.querySelector('#df-e4a04011-efb9-4ac5-b61b-d561272e5fd2 button.colab-df-convert');\n",
              "        buttonEl.style.display =\n",
              "          google.colab.kernel.accessAllowed ? 'block' : 'none';\n",
              "\n",
              "        async function convertToInteractive(key) {\n",
              "          const element = document.querySelector('#df-e4a04011-efb9-4ac5-b61b-d561272e5fd2');\n",
              "          const dataTable =\n",
              "            await google.colab.kernel.invokeFunction('convertToInteractive',\n",
              "                                                     [key], {});\n",
              "          if (!dataTable) return;\n",
              "\n",
              "          const docLinkHtml = 'Like what you see? Visit the ' +\n",
              "            '<a target=\"_blank\" href=https://colab.research.google.com/notebooks/data_table.ipynb>data table notebook</a>'\n",
              "            + ' to learn more about interactive tables.';\n",
              "          element.innerHTML = '';\n",
              "          dataTable['output_type'] = 'display_data';\n",
              "          await google.colab.output.renderOutput(dataTable, element);\n",
              "          const docLink = document.createElement('div');\n",
              "          docLink.innerHTML = docLinkHtml;\n",
              "          element.appendChild(docLink);\n",
              "        }\n",
              "      </script>\n",
              "    </div>\n",
              "  </div>\n",
              "  "
            ]
          },
          "metadata": {},
          "execution_count": 63
        },
        {
          "output_type": "execute_result",
          "data": {
            "text/plain": [
              "        TV  radio  newspaper  sales  newspaper_radio  TV_radio  newspaper_TV  \\\n",
              "85   213.5   43.0       33.8   21.7          1453.40   9180.50       7216.30   \n",
              "61    53.5    2.0       21.4    8.1            42.80    107.00       1144.90   \n",
              "55   262.7   28.8       15.9   20.2           457.92   7565.76       4176.93   \n",
              "110  255.4   26.9        5.5   19.8           147.95   6870.26       1404.70   \n",
              "157   93.9   43.5       50.5   15.3          2196.75   4084.65       4741.95   \n",
              "\n",
              "     newspaper_radio_TV  \n",
              "85           310300.900  \n",
              "61             2289.800  \n",
              "55           120295.584  \n",
              "110           37786.430  \n",
              "157          206274.825  "
            ],
            "text/html": [
              "\n",
              "  <div id=\"df-79bd4cc3-eb71-4d13-b749-88b3c1ce7b52\">\n",
              "    <div class=\"colab-df-container\">\n",
              "      <div>\n",
              "<style scoped>\n",
              "    .dataframe tbody tr th:only-of-type {\n",
              "        vertical-align: middle;\n",
              "    }\n",
              "\n",
              "    .dataframe tbody tr th {\n",
              "        vertical-align: top;\n",
              "    }\n",
              "\n",
              "    .dataframe thead th {\n",
              "        text-align: right;\n",
              "    }\n",
              "</style>\n",
              "<table border=\"1\" class=\"dataframe\">\n",
              "  <thead>\n",
              "    <tr style=\"text-align: right;\">\n",
              "      <th></th>\n",
              "      <th>TV</th>\n",
              "      <th>radio</th>\n",
              "      <th>newspaper</th>\n",
              "      <th>sales</th>\n",
              "      <th>newspaper_radio</th>\n",
              "      <th>TV_radio</th>\n",
              "      <th>newspaper_TV</th>\n",
              "      <th>newspaper_radio_TV</th>\n",
              "    </tr>\n",
              "  </thead>\n",
              "  <tbody>\n",
              "    <tr>\n",
              "      <th>85</th>\n",
              "      <td>213.5</td>\n",
              "      <td>43.0</td>\n",
              "      <td>33.8</td>\n",
              "      <td>21.7</td>\n",
              "      <td>1453.40</td>\n",
              "      <td>9180.50</td>\n",
              "      <td>7216.30</td>\n",
              "      <td>310300.900</td>\n",
              "    </tr>\n",
              "    <tr>\n",
              "      <th>61</th>\n",
              "      <td>53.5</td>\n",
              "      <td>2.0</td>\n",
              "      <td>21.4</td>\n",
              "      <td>8.1</td>\n",
              "      <td>42.80</td>\n",
              "      <td>107.00</td>\n",
              "      <td>1144.90</td>\n",
              "      <td>2289.800</td>\n",
              "    </tr>\n",
              "    <tr>\n",
              "      <th>55</th>\n",
              "      <td>262.7</td>\n",
              "      <td>28.8</td>\n",
              "      <td>15.9</td>\n",
              "      <td>20.2</td>\n",
              "      <td>457.92</td>\n",
              "      <td>7565.76</td>\n",
              "      <td>4176.93</td>\n",
              "      <td>120295.584</td>\n",
              "    </tr>\n",
              "    <tr>\n",
              "      <th>110</th>\n",
              "      <td>255.4</td>\n",
              "      <td>26.9</td>\n",
              "      <td>5.5</td>\n",
              "      <td>19.8</td>\n",
              "      <td>147.95</td>\n",
              "      <td>6870.26</td>\n",
              "      <td>1404.70</td>\n",
              "      <td>37786.430</td>\n",
              "    </tr>\n",
              "    <tr>\n",
              "      <th>157</th>\n",
              "      <td>93.9</td>\n",
              "      <td>43.5</td>\n",
              "      <td>50.5</td>\n",
              "      <td>15.3</td>\n",
              "      <td>2196.75</td>\n",
              "      <td>4084.65</td>\n",
              "      <td>4741.95</td>\n",
              "      <td>206274.825</td>\n",
              "    </tr>\n",
              "  </tbody>\n",
              "</table>\n",
              "</div>\n",
              "      <button class=\"colab-df-convert\" onclick=\"convertToInteractive('df-79bd4cc3-eb71-4d13-b749-88b3c1ce7b52')\"\n",
              "              title=\"Convert this dataframe to an interactive table.\"\n",
              "              style=\"display:none;\">\n",
              "        \n",
              "  <svg xmlns=\"http://www.w3.org/2000/svg\" height=\"24px\"viewBox=\"0 0 24 24\"\n",
              "       width=\"24px\">\n",
              "    <path d=\"M0 0h24v24H0V0z\" fill=\"none\"/>\n",
              "    <path d=\"M18.56 5.44l.94 2.06.94-2.06 2.06-.94-2.06-.94-.94-2.06-.94 2.06-2.06.94zm-11 1L8.5 8.5l.94-2.06 2.06-.94-2.06-.94L8.5 2.5l-.94 2.06-2.06.94zm10 10l.94 2.06.94-2.06 2.06-.94-2.06-.94-.94-2.06-.94 2.06-2.06.94z\"/><path d=\"M17.41 7.96l-1.37-1.37c-.4-.4-.92-.59-1.43-.59-.52 0-1.04.2-1.43.59L10.3 9.45l-7.72 7.72c-.78.78-.78 2.05 0 2.83L4 21.41c.39.39.9.59 1.41.59.51 0 1.02-.2 1.41-.59l7.78-7.78 2.81-2.81c.8-.78.8-2.07 0-2.86zM5.41 20L4 18.59l7.72-7.72 1.47 1.35L5.41 20z\"/>\n",
              "  </svg>\n",
              "      </button>\n",
              "      \n",
              "  <style>\n",
              "    .colab-df-container {\n",
              "      display:flex;\n",
              "      flex-wrap:wrap;\n",
              "      gap: 12px;\n",
              "    }\n",
              "\n",
              "    .colab-df-convert {\n",
              "      background-color: #E8F0FE;\n",
              "      border: none;\n",
              "      border-radius: 50%;\n",
              "      cursor: pointer;\n",
              "      display: none;\n",
              "      fill: #1967D2;\n",
              "      height: 32px;\n",
              "      padding: 0 0 0 0;\n",
              "      width: 32px;\n",
              "    }\n",
              "\n",
              "    .colab-df-convert:hover {\n",
              "      background-color: #E2EBFA;\n",
              "      box-shadow: 0px 1px 2px rgba(60, 64, 67, 0.3), 0px 1px 3px 1px rgba(60, 64, 67, 0.15);\n",
              "      fill: #174EA6;\n",
              "    }\n",
              "\n",
              "    [theme=dark] .colab-df-convert {\n",
              "      background-color: #3B4455;\n",
              "      fill: #D2E3FC;\n",
              "    }\n",
              "\n",
              "    [theme=dark] .colab-df-convert:hover {\n",
              "      background-color: #434B5C;\n",
              "      box-shadow: 0px 1px 3px 1px rgba(0, 0, 0, 0.15);\n",
              "      filter: drop-shadow(0px 1px 2px rgba(0, 0, 0, 0.3));\n",
              "      fill: #FFFFFF;\n",
              "    }\n",
              "  </style>\n",
              "\n",
              "      <script>\n",
              "        const buttonEl =\n",
              "          document.querySelector('#df-79bd4cc3-eb71-4d13-b749-88b3c1ce7b52 button.colab-df-convert');\n",
              "        buttonEl.style.display =\n",
              "          google.colab.kernel.accessAllowed ? 'block' : 'none';\n",
              "\n",
              "        async function convertToInteractive(key) {\n",
              "          const element = document.querySelector('#df-79bd4cc3-eb71-4d13-b749-88b3c1ce7b52');\n",
              "          const dataTable =\n",
              "            await google.colab.kernel.invokeFunction('convertToInteractive',\n",
              "                                                     [key], {});\n",
              "          if (!dataTable) return;\n",
              "\n",
              "          const docLinkHtml = 'Like what you see? Visit the ' +\n",
              "            '<a target=\"_blank\" href=https://colab.research.google.com/notebooks/data_table.ipynb>data table notebook</a>'\n",
              "            + ' to learn more about interactive tables.';\n",
              "          element.innerHTML = '';\n",
              "          dataTable['output_type'] = 'display_data';\n",
              "          await google.colab.output.renderOutput(dataTable, element);\n",
              "          const docLink = document.createElement('div');\n",
              "          docLink.innerHTML = docLinkHtml;\n",
              "          element.appendChild(docLink);\n",
              "        }\n",
              "      </script>\n",
              "    </div>\n",
              "  </div>\n",
              "  "
            ]
          },
          "metadata": {},
          "execution_count": 63
        }
      ]
    },
    {
      "cell_type": "code",
      "source": [
        "reg_interaction = LinearRegression().fit(train[['TV', 'radio', 'newspaper','newspaper_radio', \n",
        "                                                'TV_radio', 'newspaper_TV', 'newspaper_radio_TV']], train['sales'])\n",
        "\n",
        "y_pred_tr_interaction  = reg_interaction.predict(train[['TV', 'radio', 'newspaper','newspaper_radio', \n",
        "                                                'TV_radio', 'newspaper_TV', 'newspaper_radio_TV']])\n",
        "\n",
        "r2_tr_interaction  = metrics.r2_score(train['sales'], y_pred_tr_interaction)\n",
        "mse_tr_interaction = metrics.mean_squared_error(train['sales'], y_pred_tr_interaction)\n",
        "\n",
        "print(\"Multiple regression R2:  \", r2_tr_interaction)\n",
        "print(\"Multiple regression MSE: \", mse_tr_interaction)\n"
      ],
      "metadata": {
        "colab": {
          "base_uri": "https://localhost:8080/"
        },
        "id": "6gZ7DaDiugwA",
        "outputId": "50d22f29-d991-4eec-d225-338544e86c77"
      },
      "id": "6gZ7DaDiugwA",
      "execution_count": null,
      "outputs": [
        {
          "output_type": "stream",
          "name": "stdout",
          "text": [
            "Multiple regression R2:   0.9639737928022052\n",
            "Multiple regression MSE:  0.997910205484344\n"
          ]
        }
      ]
    },
    {
      "cell_type": "code",
      "source": [
        "sns.scatterplot(data=train, x=\"sales\", y=y_pred_tr_interaction);\n",
        "plt.xlabel(\"Actual sales\")\n",
        "plt.ylabel(\"Predicted sales\")\n",
        "plt.title(\"Predicted sales from interaction model vs Actual sales\")\n",
        "plt.xlim(0, 30)\n",
        "plt.ylim(0,30)\n"
      ],
      "metadata": {
        "colab": {
          "base_uri": "https://localhost:8080/",
          "height": 356
        },
        "id": "ijg83hqBwMAz",
        "outputId": "1dca22f3-c72a-44d4-e2dc-59f4828c2c48"
      },
      "id": "ijg83hqBwMAz",
      "execution_count": null,
      "outputs": [
        {
          "output_type": "execute_result",
          "data": {
            "text/plain": [
              "<matplotlib.axes._subplots.AxesSubplot at 0x7fa06db85350>"
            ]
          },
          "metadata": {},
          "execution_count": 70
        },
        {
          "output_type": "execute_result",
          "data": {
            "text/plain": [
              "Text(0.5, 0, 'Actual sales')"
            ]
          },
          "metadata": {},
          "execution_count": 70
        },
        {
          "output_type": "execute_result",
          "data": {
            "text/plain": [
              "Text(0, 0.5, 'Predicted sales')"
            ]
          },
          "metadata": {},
          "execution_count": 70
        },
        {
          "output_type": "execute_result",
          "data": {
            "text/plain": [
              "Text(0.5, 1.0, 'Predicted sales from interaction model vs Actual sales')"
            ]
          },
          "metadata": {},
          "execution_count": 70
        },
        {
          "output_type": "execute_result",
          "data": {
            "text/plain": [
              "(0.0, 30.0)"
            ]
          },
          "metadata": {},
          "execution_count": 70
        },
        {
          "output_type": "execute_result",
          "data": {
            "text/plain": [
              "(0.0, 30.0)"
            ]
          },
          "metadata": {},
          "execution_count": 70
        },
        {
          "output_type": "display_data",
          "data": {
            "text/plain": [
              "<Figure size 432x288 with 1 Axes>"
            ],
            "image/png": "[encoded data removed]"
          },
          "metadata": {}
        }
      ]
    },
    {
      "cell_type": "code",
      "source": [
        "int_residuals = train[\"sales\"]- y_pred_tr_interaction\n",
        "\n",
        "sns.scatterplot(data=train, x=\"sales\", y=int_residuals);\n",
        "plt.xlabel(\"Actual sales\")\n",
        "plt.ylabel(\"Residuals\")\n",
        "plt.title(\"Residuals of interaction model vs actual sales\")\n",
        "plt.xlim(0, 30)\n",
        "plt.ylim(-6,6)\n"
      ],
      "metadata": {
        "colab": {
          "base_uri": "https://localhost:8080/",
          "height": 356
        },
        "id": "a2OmbPhEw9do",
        "outputId": "8322a579-e850-413e-85fd-776612baaa17"
      },
      "id": "a2OmbPhEw9do",
      "execution_count": null,
      "outputs": [
        {
          "output_type": "execute_result",
          "data": {
            "text/plain": [
              "<matplotlib.axes._subplots.AxesSubplot at 0x7fa069f8af90>"
            ]
          },
          "metadata": {},
          "execution_count": 73
        },
        {
          "output_type": "execute_result",
          "data": {
            "text/plain": [
              "Text(0.5, 0, 'Actual sales')"
            ]
          },
          "metadata": {},
          "execution_count": 73
        },
        {
          "output_type": "execute_result",
          "data": {
            "text/plain": [
              "Text(0, 0.5, 'Residuals')"
            ]
          },
          "metadata": {},
          "execution_count": 73
        },
        {
          "output_type": "execute_result",
          "data": {
            "text/plain": [
              "Text(0.5, 1.0, 'Residuals of interaction model vs actual sales')"
            ]
          },
          "metadata": {},
          "execution_count": 73
        },
        {
          "output_type": "execute_result",
          "data": {
            "text/plain": [
              "(0.0, 30.0)"
            ]
          },
          "metadata": {},
          "execution_count": 73
        },
        {
          "output_type": "execute_result",
          "data": {
            "text/plain": [
              "(-6.0, 6.0)"
            ]
          },
          "metadata": {},
          "execution_count": 73
        },
        {
          "output_type": "display_data",
          "data": {
            "text/plain": [
              "<Figure size 432x288 with 1 Axes>"
            ],
            "image/png": "[encoded data removed]"
          },
          "metadata": {}
        }
      ]
    },
    {
      "cell_type": "code",
      "source": [
        "fig = plt.figure(figsize=(20,20))\n",
        "#plt.subplots_adjust(left=1, right=2.2, bottom=1, top=1.5)\n",
        "\n",
        "plt.subplot(3,3,1)\n",
        "sns.scatterplot(data=train, x=\"TV\", y=int_residuals);\n",
        "plt.xlabel(\"TV\")\n",
        "plt.ylabel(\"Residuals\")\n",
        "plt.title(\"Residuals of interaction model vs TV\")\n",
        "plt.xlim(0, 300)\n",
        "plt.ylim(-6,6)\n",
        "\n",
        "plt.subplot(3,3,2)\n",
        "sns.scatterplot(data=train, x=\"radio\", y=int_residuals);\n",
        "plt.xlabel(\"Radio\")\n",
        "plt.ylabel(\"Residuals\")\n",
        "plt.title(\"Residuals of interaction model vs radio\")\n",
        "plt.xlim(0, 55)\n",
        "plt.ylim(-6,6)\n",
        "\n",
        "plt.subplot(3,3,3)\n",
        "sns.scatterplot(data=train, x=\"newspaper\", y=int_residuals);\n",
        "plt.xlabel(\"Newspaper\")\n",
        "plt.ylabel(\"Residuals\")\n",
        "plt.title(\"Residuals of interaction model vs newspaper\")\n",
        "plt.xlim(0, 120)\n",
        "plt.ylim(-6,6)\n",
        "\n",
        "plt.subplot(3,3,4)\n",
        "sns.scatterplot(data=train, x=\"newspaper_radio\", y=int_residuals);\n",
        "plt.xlabel(\"newspaper X radio\")\n",
        "plt.ylabel(\"Residuals\")\n",
        "plt.title(\"Residuals of interaction model vs newspaper_radio\")\n",
        "plt.xlim(0, 4500)\n",
        "plt.ylim(-6,6)\n",
        "\n",
        "plt.subplot(3,3,5)\n",
        "sns.scatterplot(data=train, x=\"TV_radio\", y=int_residuals);\n",
        "plt.xlabel(\"TV X radio\")\n",
        "plt.ylabel(\"Residuals\")\n",
        "plt.title(\"Residuals of interaction model vs TV_radio\")\n",
        "plt.xlim(0, 14000)\n",
        "plt.ylim(-6,6)\n",
        "\n",
        "plt.subplot(3,3,6)\n",
        "sns.scatterplot(data=train, x=\"newspaper_TV\", y=int_residuals);\n",
        "plt.xlabel(\"newspaper X TV\")\n",
        "plt.ylabel(\"Residuals\")\n",
        "plt.title(\"Residuals of interaction model vs newspaper_TV\")\n",
        "plt.xlim(0, 22000)\n",
        "plt.ylim(-6,6)\n",
        "\n",
        "plt.subplot(3,3,7)\n",
        "sns.scatterplot(data=train, x=\"newspaper_radio_TV\", y=int_residuals);\n",
        "plt.xlabel(\"newspaper X radio X TV\")\n",
        "plt.ylabel(\"Residuals\")\n",
        "plt.title(\"Residuals of interaction model vs newspaper_radio_TV\")\n",
        "plt.xlim(0, 1000000)\n",
        "plt.ylim(-6,6)"
      ],
      "metadata": {
        "colab": {
          "base_uri": "https://localhost:8080/",
          "height": 1000
        },
        "id": "SDnTlIByx47s",
        "outputId": "6e7681f6-2460-48d2-8651-f2fc5a611f38"
      },
      "id": "SDnTlIByx47s",
      "execution_count": null,
      "outputs": [
        {
          "output_type": "execute_result",
          "data": {
            "text/plain": [
              "<matplotlib.axes._subplots.AxesSubplot at 0x7fa069ae4410>"
            ]
          },
          "metadata": {},
          "execution_count": 79
        },
        {
          "output_type": "execute_result",
          "data": {
            "text/plain": [
              "<matplotlib.axes._subplots.AxesSubplot at 0x7fa069ae4410>"
            ]
          },
          "metadata": {},
          "execution_count": 79
        },
        {
          "output_type": "execute_result",
          "data": {
            "text/plain": [
              "Text(0.5, 0, 'TV')"
            ]
          },
          "metadata": {},
          "execution_count": 79
        },
        {
          "output_type": "execute_result",
          "data": {
            "text/plain": [
              "Text(0, 0.5, 'Residuals')"
            ]
          },
          "metadata": {},
          "execution_count": 79
        },
        {
          "output_type": "execute_result",
          "data": {
            "text/plain": [
              "Text(0.5, 1.0, 'Residuals of interaction model vs TV')"
            ]
          },
          "metadata": {},
          "execution_count": 79
        },
        {
          "output_type": "execute_result",
          "data": {
            "text/plain": [
              "(0.0, 300.0)"
            ]
          },
          "metadata": {},
          "execution_count": 79
        },
        {
          "output_type": "execute_result",
          "data": {
            "text/plain": [
              "(-6.0, 6.0)"
            ]
          },
          "metadata": {},
          "execution_count": 79
        },
        {
          "output_type": "execute_result",
          "data": {
            "text/plain": [
              "<matplotlib.axes._subplots.AxesSubplot at 0x7fa069ba4f90>"
            ]
          },
          "metadata": {},
          "execution_count": 79
        },
        {
          "output_type": "execute_result",
          "data": {
            "text/plain": [
              "<matplotlib.axes._subplots.AxesSubplot at 0x7fa069ba4f90>"
            ]
          },
          "metadata": {},
          "execution_count": 79
        },
        {
          "output_type": "execute_result",
          "data": {
            "text/plain": [
              "Text(0.5, 0, 'Radio')"
            ]
          },
          "metadata": {},
          "execution_count": 79
        },
        {
          "output_type": "execute_result",
          "data": {
            "text/plain": [
              "Text(0, 0.5, 'Residuals')"
            ]
          },
          "metadata": {},
          "execution_count": 79
        },
        {
          "output_type": "execute_result",
          "data": {
            "text/plain": [
              "Text(0.5, 1.0, 'Residuals of interaction model vs radio')"
            ]
          },
          "metadata": {},
          "execution_count": 79
        },
        {
          "output_type": "execute_result",
          "data": {
            "text/plain": [
              "(0.0, 55.0)"
            ]
          },
          "metadata": {},
          "execution_count": 79
        },
        {
          "output_type": "execute_result",
          "data": {
            "text/plain": [
              "(-6.0, 6.0)"
            ]
          },
          "metadata": {},
          "execution_count": 79
        },
        {
          "output_type": "execute_result",
          "data": {
            "text/plain": [
              "<matplotlib.axes._subplots.AxesSubplot at 0x7fa069b47350>"
            ]
          },
          "metadata": {},
          "execution_count": 79
        },
        {
          "output_type": "execute_result",
          "data": {
            "text/plain": [
              "<matplotlib.axes._subplots.AxesSubplot at 0x7fa069b47350>"
            ]
          },
          "metadata": {},
          "execution_count": 79
        },
        {
          "output_type": "execute_result",
          "data": {
            "text/plain": [
              "Text(0.5, 0, 'Newspaper')"
            ]
          },
          "metadata": {},
          "execution_count": 79
        },
        {
          "output_type": "execute_result",
          "data": {
            "text/plain": [
              "Text(0, 0.5, 'Residuals')"
            ]
          },
          "metadata": {},
          "execution_count": 79
        },
        {
          "output_type": "execute_result",
          "data": {
            "text/plain": [
              "Text(0.5, 1.0, 'Residuals of interaction model vs newspaper')"
            ]
          },
          "metadata": {},
          "execution_count": 79
        },
        {
          "output_type": "execute_result",
          "data": {
            "text/plain": [
              "(0.0, 120.0)"
            ]
          },
          "metadata": {},
          "execution_count": 79
        },
        {
          "output_type": "execute_result",
          "data": {
            "text/plain": [
              "(-6.0, 6.0)"
            ]
          },
          "metadata": {},
          "execution_count": 79
        },
        {
          "output_type": "execute_result",
          "data": {
            "text/plain": [
              "<matplotlib.axes._subplots.AxesSubplot at 0x7fa069806990>"
            ]
          },
          "metadata": {},
          "execution_count": 79
        },
        {
          "output_type": "execute_result",
          "data": {
            "text/plain": [
              "<matplotlib.axes._subplots.AxesSubplot at 0x7fa069806990>"
            ]
          },
          "metadata": {},
          "execution_count": 79
        },
        {
          "output_type": "execute_result",
          "data": {
            "text/plain": [
              "Text(0.5, 0, 'newspaper X radio')"
            ]
          },
          "metadata": {},
          "execution_count": 79
        },
        {
          "output_type": "execute_result",
          "data": {
            "text/plain": [
              "Text(0, 0.5, 'Residuals')"
            ]
          },
          "metadata": {},
          "execution_count": 79
        },
        {
          "output_type": "execute_result",
          "data": {
            "text/plain": [
              "Text(0.5, 1.0, 'Residuals of interaction model vs newspaper_radio')"
            ]
          },
          "metadata": {},
          "execution_count": 79
        },
        {
          "output_type": "execute_result",
          "data": {
            "text/plain": [
              "(0.0, 4500.0)"
            ]
          },
          "metadata": {},
          "execution_count": 79
        },
        {
          "output_type": "execute_result",
          "data": {
            "text/plain": [
              "(-6.0, 6.0)"
            ]
          },
          "metadata": {},
          "execution_count": 79
        },
        {
          "output_type": "execute_result",
          "data": {
            "text/plain": [
              "<matplotlib.axes._subplots.AxesSubplot at 0x7fa06a21c950>"
            ]
          },
          "metadata": {},
          "execution_count": 79
        },
        {
          "output_type": "execute_result",
          "data": {
            "text/plain": [
              "<matplotlib.axes._subplots.AxesSubplot at 0x7fa06a21c950>"
            ]
          },
          "metadata": {},
          "execution_count": 79
        },
        {
          "output_type": "execute_result",
          "data": {
            "text/plain": [
              "Text(0.5, 0, 'TV X radio')"
            ]
          },
          "metadata": {},
          "execution_count": 79
        },
        {
          "output_type": "execute_result",
          "data": {
            "text/plain": [
              "Text(0, 0.5, 'Residuals')"
            ]
          },
          "metadata": {},
          "execution_count": 79
        },
        {
          "output_type": "execute_result",
          "data": {
            "text/plain": [
              "Text(0.5, 1.0, 'Residuals of interaction model vs TV_radio')"
            ]
          },
          "metadata": {},
          "execution_count": 79
        },
        {
          "output_type": "execute_result",
          "data": {
            "text/plain": [
              "(0.0, 14000.0)"
            ]
          },
          "metadata": {},
          "execution_count": 79
        },
        {
          "output_type": "execute_result",
          "data": {
            "text/plain": [
              "(-6.0, 6.0)"
            ]
          },
          "metadata": {},
          "execution_count": 79
        },
        {
          "output_type": "execute_result",
          "data": {
            "text/plain": [
              "<matplotlib.axes._subplots.AxesSubplot at 0x7fa069a78390>"
            ]
          },
          "metadata": {},
          "execution_count": 79
        },
        {
          "output_type": "execute_result",
          "data": {
            "text/plain": [
              "<matplotlib.axes._subplots.AxesSubplot at 0x7fa069a78390>"
            ]
          },
          "metadata": {},
          "execution_count": 79
        },
        {
          "output_type": "execute_result",
          "data": {
            "text/plain": [
              "Text(0.5, 0, 'newspaper X TV')"
            ]
          },
          "metadata": {},
          "execution_count": 79
        },
        {
          "output_type": "execute_result",
          "data": {
            "text/plain": [
              "Text(0, 0.5, 'Residuals')"
            ]
          },
          "metadata": {},
          "execution_count": 79
        },
        {
          "output_type": "execute_result",
          "data": {
            "text/plain": [
              "Text(0.5, 1.0, 'Residuals of interaction model vs newspaper_TV')"
            ]
          },
          "metadata": {},
          "execution_count": 79
        },
        {
          "output_type": "execute_result",
          "data": {
            "text/plain": [
              "(0.0, 22000.0)"
            ]
          },
          "metadata": {},
          "execution_count": 79
        },
        {
          "output_type": "execute_result",
          "data": {
            "text/plain": [
              "(-6.0, 6.0)"
            ]
          },
          "metadata": {},
          "execution_count": 79
        },
        {
          "output_type": "execute_result",
          "data": {
            "text/plain": [
              "<matplotlib.axes._subplots.AxesSubplot at 0x7fa069861090>"
            ]
          },
          "metadata": {},
          "execution_count": 79
        },
        {
          "output_type": "execute_result",
          "data": {
            "text/plain": [
              "<matplotlib.axes._subplots.AxesSubplot at 0x7fa069861090>"
            ]
          },
          "metadata": {},
          "execution_count": 79
        },
        {
          "output_type": "execute_result",
          "data": {
            "text/plain": [
              "Text(0.5, 0, 'newspaper X radio X TV')"
            ]
          },
          "metadata": {},
          "execution_count": 79
        },
        {
          "output_type": "execute_result",
          "data": {
            "text/plain": [
              "Text(0, 0.5, 'Residuals')"
            ]
          },
          "metadata": {},
          "execution_count": 79
        },
        {
          "output_type": "execute_result",
          "data": {
            "text/plain": [
              "Text(0.5, 1.0, 'Residuals of interaction model vs newspaper_radio_TV')"
            ]
          },
          "metadata": {},
          "execution_count": 79
        },
        {
          "output_type": "execute_result",
          "data": {
            "text/plain": [
              "(0.0, 1000000.0)"
            ]
          },
          "metadata": {},
          "execution_count": 79
        },
        {
          "output_type": "execute_result",
          "data": {
            "text/plain": [
              "(-6.0, 6.0)"
            ]
          },
          "metadata": {},
          "execution_count": 79
        },
        {
          "output_type": "display_data",
          "data": {
            "text/plain": [
              "<Figure size 1440x1440 with 7 Axes>"
            ],
            "image/png": "[encoded data removed]"
          },
          "metadata": {}
        }
      ]
    },
    {
      "cell_type": "markdown",
      "metadata": {
        "id": "hAcBRVacYQpQ"
      },
      "source": [
        "### 4. Linear regression with interaction terms\n",
        "\n",
        "Our multiple linear regression includes additive effects of all three\n",
        "types of advertising media. However, it does not include *interaction*\n",
        "effects, in which combining different types of advertising media\n",
        "together results in a bigger boost in sales than just the additive\n",
        "effect of the individual media.\n",
        "\n",
        "The pattern in the residuals plots from parts (1) through (3) suggest\n",
        "that a model including an interaction effect may explain sales data\n",
        "better than a model including additive effects. Add four columns to each\n",
        "data frame (`train` and `test`):\n",
        "\n",
        "-   `newspaper` $\\times$ `radio` (name this column `newspaper_radio`)\n",
        "-   `TV` $\\times$ `radio` (name this column `TV_radio`)\n",
        "-   `newspaper` $\\times$ `TV` (name this column `newspaper_TV`)\n",
        "-   `newspaper` $\\times$ `radio` $\\times$ `TV` (name this column\n",
        "    `newspaper_radio_TV`)\n",
        "\n",
        "Note: you can use the `assign` function in `pandas` ([documentation\n",
        "here](https://pandas.pydata.org/docs/reference/api/pandas.DataFrame.assign.html))\n",
        "to create a new column and assign a value to it using operations on\n",
        "other columns.\n",
        "\n",
        "Then, train a linear regression model on all seven features: the three\n",
        "types of ad budgets, and the four interaction effects. Repeat the\n",
        "analysis of part (3) for the model including interaction effects. Are\n",
        "the interaction effects helpful for explaining the effect of ads on\n",
        "product sales? Are there any patterns evident in the residual plots that\n",
        "suggest further opportunities for improving the model?\n",
        "\n",
        "**The code in this section is not provided for you**. You will need to\n",
        "write code, in addition to comments, observations, and answers to the\n",
        "questions.\n",
        "\n",
        "------------------------------------------------------------------------\n",
        "\n",
        "Note that in general, to earn full credit, plots must:\n",
        "\n",
        "-   Be readable (especially text size).\n",
        "-   Have a label on each axis.\n",
        "-   Have an appropriate range for each axis. When there are multiple\n",
        "    subplots, if the goal is to compare similar things in different\n",
        "    subplots, in most cases it is appropriate for them all to use the\n",
        "    same range.\n",
        "-   If there are multiple subplots, or multiple data series in the same\n",
        "    plot, it must be made clear which is which."
      ],
      "id": "hAcBRVacYQpQ"
    }
  ],
  "nbformat": 4,
  "nbformat_minor": 5,
  "metadata": {
    "colab": {
      "provenance": [],
      "collapsed_sections": [],
      "include_colab_link": true
    },
    "language_info": {
      "name": "python"
    },
    "kernelspec": {
      "name": "python3",
      "display_name": "Python 3"
    }
  }
}