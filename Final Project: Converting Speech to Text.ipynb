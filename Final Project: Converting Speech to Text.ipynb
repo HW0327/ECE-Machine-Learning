{
  "nbformat": 4,
  "nbformat_minor": 0,
  "metadata": {
    "colab": {
      "provenance": [],
      "collapsed_sections": [],
      "authorship_tag": "ABX9TyPMSqhNMR0J9qKifsI0qa2j",
      "include_colab_link": true
    },
    "kernelspec": {
      "name": "python3",
      "display_name": "Python 3"
    },
    "language_info": {
      "name": "python"
    }
  },
  "cells": [
    {
      "cell_type": "markdown",
      "metadata": {
        "id": "view-in-github",
        "colab_type": "text"
      },
      "source": [
        "<a href=\"https://colab.research.google.com/github/HW0327/ECE-Machine-Learning/blob/main/Final%20Project%3A%20Converting%20Speech%20to%20Text.ipynb\" target=\"_parent\"><img src=\"https://colab.research.google.com/assets/colab-badge.svg\" alt=\"Open In Colab\"/></a>"
      ]
    },
    {
      "cell_type": "markdown",
      "source": [
        "**ECE-GY 6143 Intro Machine Learning Final Project: Speech to Text**\n",
        "===================================================================\n"
      ],
      "metadata": {
        "id": "RegqYL9sqAWH"
      }
    },
    {
      "cell_type": "markdown",
      "source": [
        "-   **Net ID**: hw3256\n",
        "-   **Name**: Haoyu Wang"
      ],
      "metadata": {
        "id": "u6ANiw6uq-IG"
      }
    },
    {
      "cell_type": "markdown",
      "source": [
        "## **Deep Speech**\n"
      ],
      "metadata": {
        "id": "77eIGgf_p0RC"
      }
    },
    {
      "cell_type": "markdown",
      "source": [
        "**Trainging data**\n",
        "\n",
        "To improve the model preformance in noisy environments, they overlaped the noise track and audio track. Since the noise can be memorized and subtracted thrugh the recurrent newwork process, they splitted the noise track into many short clips, and superimposed all of them onto the audio track.\n",
        "To ensure the Lombard effect is represented in their data, they asked the person recording the audio to wear headphones and play the noise, so that the recorder would actively rise the voice to overcome the noise."
      ],
      "metadata": {
        "id": "kf1XOFxYItPu"
      }
    },
    {
      "cell_type": "code",
      "execution_count": null,
      "metadata": {
        "colab": {
          "base_uri": "https://localhost:8080/"
        },
        "id": "xPwt2Lk0IQfz",
        "outputId": "618e0aa2-1a5d-4aa4-e99c-c5835c62575d"
      },
      "outputs": [
        {
          "output_type": "stream",
          "name": "stdout",
          "text": [
            "Looking in indexes: https://pypi.org/simple, https://us-python.pkg.dev/colab-wheels/public/simple/\n",
            "Collecting youtube-transcript-api\n",
            "  Downloading youtube_transcript_api-0.4.4-py3-none-any.whl (22 kB)\n",
            "Requirement already satisfied: requests in /usr/local/lib/python3.7/dist-packages (from youtube-transcript-api) (2.23.0)\n",
            "Requirement already satisfied: urllib3!=1.25.0,!=1.25.1,<1.26,>=1.21.1 in /usr/local/lib/python3.7/dist-packages (from requests->youtube-transcript-api) (1.24.3)\n",
            "Requirement already satisfied: idna<3,>=2.5 in /usr/local/lib/python3.7/dist-packages (from requests->youtube-transcript-api) (2.10)\n",
            "Requirement already satisfied: certifi>=2017.4.17 in /usr/local/lib/python3.7/dist-packages (from requests->youtube-transcript-api) (2022.6.15)\n",
            "Requirement already satisfied: chardet<4,>=3.0.2 in /usr/local/lib/python3.7/dist-packages (from requests->youtube-transcript-api) (3.0.4)\n",
            "Installing collected packages: youtube-transcript-api\n",
            "Successfully installed youtube-transcript-api-0.4.4\n",
            "Selecting previously unselected package libopencore-amrnb0:amd64.\n",
            "(Reading database ... 155680 files and directories currently installed.)\n",
            "Preparing to unpack .../0-libopencore-amrnb0_0.1.3-2.1_amd64.deb ...\n",
            "Unpacking libopencore-amrnb0:amd64 (0.1.3-2.1) ...\n",
            "Selecting previously unselected package libopencore-amrwb0:amd64.\n",
            "Preparing to unpack .../1-libopencore-amrwb0_0.1.3-2.1_amd64.deb ...\n",
            "Unpacking libopencore-amrwb0:amd64 (0.1.3-2.1) ...\n",
            "Selecting previously unselected package libmagic-mgc.\n",
            "Preparing to unpack .../2-libmagic-mgc_1%3a5.32-2ubuntu0.4_amd64.deb ...\n",
            "Unpacking libmagic-mgc (1:5.32-2ubuntu0.4) ...\n",
            "Selecting previously unselected package libmagic1:amd64.\n",
            "Preparing to unpack .../3-libmagic1_1%3a5.32-2ubuntu0.4_amd64.deb ...\n",
            "Unpacking libmagic1:amd64 (1:5.32-2ubuntu0.4) ...\n",
            "Selecting previously unselected package libsox3:amd64.\n",
            "Preparing to unpack .../4-libsox3_14.4.2-3ubuntu0.18.04.1_amd64.deb ...\n",
            "Unpacking libsox3:amd64 (14.4.2-3ubuntu0.18.04.1) ...\n",
            "Selecting previously unselected package libsox-fmt-alsa:amd64.\n",
            "Preparing to unpack .../5-libsox-fmt-alsa_14.4.2-3ubuntu0.18.04.1_amd64.deb ...\n",
            "Unpacking libsox-fmt-alsa:amd64 (14.4.2-3ubuntu0.18.04.1) ...\n",
            "Selecting previously unselected package libsox-fmt-base:amd64.\n",
            "Preparing to unpack .../6-libsox-fmt-base_14.4.2-3ubuntu0.18.04.1_amd64.deb ...\n",
            "Unpacking libsox-fmt-base:amd64 (14.4.2-3ubuntu0.18.04.1) ...\n",
            "Selecting previously unselected package sox.\n",
            "Preparing to unpack .../7-sox_14.4.2-3ubuntu0.18.04.1_amd64.deb ...\n",
            "Unpacking sox (14.4.2-3ubuntu0.18.04.1) ...\n",
            "Setting up libmagic-mgc (1:5.32-2ubuntu0.4) ...\n",
            "Setting up libmagic1:amd64 (1:5.32-2ubuntu0.4) ...\n",
            "Setting up libopencore-amrnb0:amd64 (0.1.3-2.1) ...\n",
            "Setting up libopencore-amrwb0:amd64 (0.1.3-2.1) ...\n",
            "Setting up libsox3:amd64 (14.4.2-3ubuntu0.18.04.1) ...\n",
            "Setting up libsox-fmt-base:amd64 (14.4.2-3ubuntu0.18.04.1) ...\n",
            "Setting up libsox-fmt-alsa:amd64 (14.4.2-3ubuntu0.18.04.1) ...\n",
            "Setting up sox (14.4.2-3ubuntu0.18.04.1) ...\n",
            "Processing triggers for libc-bin (2.27-3ubuntu1.5) ...\n",
            "Processing triggers for man-db (2.8.3-2ubuntu0.1) ...\n",
            "Processing triggers for mime-support (3.60ubuntu1) ...\n",
            "Looking in indexes: https://pypi.org/simple, https://us-python.pkg.dev/colab-wheels/public/simple/\n",
            "Collecting deepspeech\n",
            "  Downloading deepspeech-0.9.3-cp37-cp37m-manylinux1_x86_64.whl (9.2 MB)\n",
            "\u001b[K     |████████████████████████████████| 9.2 MB 30.5 MB/s \n",
            "\u001b[?25hRequirement already satisfied: youtube-dl in /usr/local/lib/python3.7/dist-packages (2021.12.17)\n",
            "Requirement already satisfied: numpy>=1.14.5 in /usr/local/lib/python3.7/dist-packages (from deepspeech) (1.21.6)\n",
            "Installing collected packages: deepspeech\n",
            "Successfully installed deepspeech-0.9.3\n",
            "  % Total    % Received % Xferd  Average Speed   Time    Time     Time  Current\n",
            "                                 Dload  Upload   Total   Spent    Left  Speed\n",
            "  0     0    0     0    0     0      0      0 --:--:-- --:--:-- --:--:--     0\n",
            "100  180M  100  180M    0     0  91.8M      0  0:00:01  0:00:01 --:--:--  103M\n",
            "  % Total    % Received % Xferd  Average Speed   Time    Time     Time  Current\n",
            "                                 Dload  Upload   Total   Spent    Left  Speed\n",
            "  0     0    0     0    0     0      0      0 --:--:-- --:--:-- --:--:--     0\n",
            "100  909M  100  909M    0     0   127M      0  0:00:07  0:00:07 --:--:--  139M\n",
            "  % Total    % Received % Xferd  Average Speed   Time    Time     Time  Current\n",
            "                                 Dload  Upload   Total   Spent    Left  Speed\n",
            "  0     0    0     0    0     0      0      0 --:--:-- --:--:-- --:--:--     0\n",
            "100  194k  100  194k    0     0  1271k      0 --:--:-- --:--:-- --:--:-- 1271k\n",
            "._audio\n",
            "audio/\n",
            "audio/._2830-3980-0043.wav\n",
            "audio/2830-3980-0043.wav\n",
            "audio/._Attribution.txt\n",
            "audio/Attribution.txt\n",
            "audio/._4507-16021-0012.wav\n",
            "audio/4507-16021-0012.wav\n",
            "audio/._8455-210777-0068.wav\n",
            "audio/8455-210777-0068.wav\n",
            "audio/._License.txt\n",
            "audio/License.txt\n"
          ]
        }
      ],
      "source": [
        "!pip3 install youtube-transcript-api\n",
        "\n",
        "from IPython.display import YouTubeVideo\n",
        "# Create and activate a virtualenv\n",
        "#!virtualenv -p python3 $HOME/tmp/deepspeech-venv/\n",
        "#!source $HOME/tmp/deepspeech-venv/bin/activate\n",
        "!apt-get install -qq sox\n",
        "# Install DeepSpeech\n",
        "!pip3 install deepspeech youtube-dl\n",
        "\n",
        "# Download pre-trained English model files\n",
        "!curl -LO https://github.com/mozilla/DeepSpeech/releases/download/v0.9.3/deepspeech-0.9.3-models.pbmm\n",
        "!curl -LO https://github.com/mozilla/DeepSpeech/releases/download/v0.9.3/deepspeech-0.9.3-models.scorer\n",
        "\n",
        "# Download example audio files\n",
        "!curl -LO https://github.com/mozilla/DeepSpeech/releases/download/v0.9.3/audio-0.9.3.tar.gz\n",
        "!tar xvf audio-0.9.3.tar.gz\n",
        "\n",
        "# Transcribe an audio file\n",
        "#!deepspeech --model deepspeech-0.9.3-models.pbmm --scorer deepspeech-0.9.3-models.scorer --audio audio/https://www.youtube.com/watch?v=nSUJwmPQEyg.wav"
      ]
    },
    {
      "cell_type": "code",
      "source": [
        "\n",
        "YOUTUBE_ID = 'nSUJwmPQEyg'\n",
        "\n",
        "YouTubeVideo(YOUTUBE_ID)"
      ],
      "metadata": {
        "colab": {
          "base_uri": "https://localhost:8080/",
          "height": 321
        },
        "id": "ookzEsbQKXto",
        "outputId": "ae2e63bf-d0be-443e-cb10-8bca461f62a6"
      },
      "execution_count": null,
      "outputs": [
        {
          "output_type": "execute_result",
          "data": {
            "text/plain": [
              "<IPython.lib.display.YouTubeVideo at 0x7fb182d2ff90>"
            ],
            "text/html": [
              "\n",
              "        <iframe\n",
              "            width=\"400\"\n",
              "            height=\"300\"\n",
              "            src=\"https://www.youtube.com/embed/nSUJwmPQEyg\"\n",
              "            frameborder=\"0\"\n",
              "            allowfullscreen\n",
              "        ></iframe>\n",
              "        "
            ],
            "image/jpeg": "[encoded data removed]"
          },
          "metadata": {},
          "execution_count": 13
        }
      ]
    },
    {
      "cell_type": "markdown",
      "source": [
        "mistakes happened when people speak quickly slurred and saying abbreviation"
      ],
      "metadata": {
        "id": "yuOVk3j_Uwp7"
      }
    },
    {
      "cell_type": "code",
      "source": [
        "!rm -rf *.wav\n",
        "!youtube-dl --extract-audio --audio-format wav --output \"test.%(ext)s\" https://www.youtube.com/watch\\?v\\={YOUTUBE_ID}\n",
        "!deepspeech --model deepspeech-0.9.3-models.pbmm --scorer deepspeech-0.9.3-models.scorer --audio test.wav >> tedspeech.txt"
      ],
      "metadata": {
        "colab": {
          "base_uri": "https://localhost:8080/"
        },
        "id": "AZ9Xy90WKod-",
        "outputId": "f2bae9aa-5a41-4a4a-d0cf-89dcc9133131"
      },
      "execution_count": null,
      "outputs": [
        {
          "output_type": "stream",
          "name": "stdout",
          "text": [
            "[youtube] nSUJwmPQEyg: Downloading webpage\n",
            "[download] Destination: test.m4a\n",
            "\u001b[K[download] 100% of 3.38MiB in 00:49\n",
            "[ffmpeg] Correcting container in \"test.m4a\"\n",
            "[ffmpeg] Destination: test.wav\n",
            "Deleting original file test.m4a (pass -k to keep)\n",
            "Loading model from file deepspeech-0.9.3-models.pbmm\n",
            "TensorFlow: v2.3.0-6-g23ad988\n",
            "DeepSpeech: v0.9.3-0-gf2e9c85\n",
            "2022-08-12 01:54:53.400014: I tensorflow/core/platform/cpu_feature_guard.cc:142] This TensorFlow binary is optimized with oneAPI Deep Neural Network Library (oneDNN)to use the following CPU instructions in performance-critical operations:  AVX2 FMA\n",
            "To enable them in other operations, rebuild TensorFlow with the appropriate compiler flags.\n",
            "Loaded model in 0.0116s.\n",
            "Loading scorer from files deepspeech-0.9.3-models.scorer\n",
            "Loaded scorer in 0.000241s.\n",
            "Warning: original sample rate (44100) is different than 16000hz. Resampling might produce erratic speech recognition.\n",
            "Running inference.\n",
            "Inference took 148.553s for 219.080s audio file.\n"
          ]
        }
      ]
    },
    {
      "cell_type": "markdown",
      "source": [
        "Read the output text file"
      ],
      "metadata": {
        "id": "hwXborAxyRpH"
      }
    },
    {
      "cell_type": "code",
      "source": [
        "f = open('tedspeech.txt', 'r')\n",
        "file_contents = f.read()\n",
        "print (file_contents)"
      ],
      "metadata": {
        "colab": {
          "base_uri": "https://localhost:8080/"
        },
        "id": "xucEFte_ws8g",
        "outputId": "be98725c-e506-49e9-c059-0b56de8d7854"
      },
      "execution_count": null,
      "outputs": [
        {
          "output_type": "stream",
          "name": "stdout",
          "text": [
            "there are two things that i think that great leaders need to have empathy and perspective and i think these things are very often forgotten leaders are so often so concerned about their status of their position and organization they actually forget their real job and the real job of a leader is not about being in charge it's about taking care of those in our charge and i don't think people realize this and i don't think people train for this when word jeer are only responsibility is to be good at our jobs that's all that we really have to do and some people actually go get advanced education unowhat they can be really good at their job account one or whatever right and you show up and you work hard and the company will give us tons and tons of training how to do our jobs all shows how to use the software to send us away for a few days to get trained in whatever it is that we're doing for the company and then they expect us to go be good at our jobs and that's what we do we work very hard and if you're good at your job they'll pleonasm point you'll get promoted to position where we're now responsible for the people who do the job we used to do but nobody shows us how to do that and that's why we get managers and moulders because the reason are matters of micromegas is because they actually do know how to do do do the job better than us that's what got them promoted really what we have to do is go to a transition some people make it quickly some people make it slowly and unfortunately some people will never make that transition at all which as we have to do this through this transition of being responsible for the job and then turning into somebody whose now responsible for the people who are responsible for the job and as i said before one of the great things that is lacking in most of our companies is that they are not teaching us how to lead and leadership is a skill like any other is a practicable learnable skill and it is something that you work on ants like a muscle if you practice in all the days you will get good at it you will get become a strong leader if you stop practicing you will become a weak leader like parentine every one has the capacity to be imperent doesn't even everybody wants to be a parent and doesn't mean everybody shouldn't be apparent leadership is the same we all have the capacity to be a leader doesn't mean everybody should be a leader and it doesn't mean everybody wants to be a leader and the reason is because it comes at great personal sacrifice remember you're not in charge your responsible for those in your charge that means things like what everything goes right you have to give away all the credit and whatever thing goes wrong you have to take all the responsibility that sucks right it's things like staying late to show somebody what to do it's things like when something does actually break when something goes wrong instead of yelling and screaming and taking over you say try again when the overwhelming pressures are not on them the overwhelming pressures are on us at the end of the day great leaders are not responsible for the job the responsible to the people who responsible to the job there not even responsible for the results i love talking to see and say what's your priority they put their hands on their absurdities by customer like really eventuated fifteen years there's no coin the planet responsible to the customer they're just not the responsible for the people who responsible for the people who responsible for the customer\n",
            "\n"
          ]
        }
      ]
    },
    {
      "cell_type": "markdown",
      "source": [
        "Calculate word error rate"
      ],
      "metadata": {
        "id": "cKt1L3E2yYOq"
      }
    },
    {
      "cell_type": "code",
      "source": [
        "from youtube_transcript_api import YouTubeTranscriptApi\n",
        "  \n",
        "def generate_transcript(id):\n",
        "\ttranscript = YouTubeTranscriptApi.get_transcript(id)\n",
        "\tscript = \"\"\n",
        "\n",
        "\tfor text in transcript:\n",
        "\t\tt = text[\"text\"]\n",
        "\t\tif t != '[Music]':\n",
        "\t\t\tscript += t + \" \"\n",
        "\t\t\n",
        "\treturn script, len(script.split())\n",
        "\n",
        "id = 'nSUJwmPQEyg'\n",
        "transcript, no_of_words = generate_transcript(id)\n",
        "\n",
        "!pip install jiwer\n",
        "from jiwer import wer\n",
        "\n",
        "ground_truth = transcript\n",
        "hypothesis = file_contents\n",
        "\n",
        "error = wer(ground_truth, hypothesis)\n",
        "print(error)"
      ],
      "metadata": {
        "colab": {
          "base_uri": "https://localhost:8080/"
        },
        "id": "36IKyP5Kw1No",
        "outputId": "bb204b54-89c5-4870-9566-2577713361ad"
      },
      "execution_count": null,
      "outputs": [
        {
          "output_type": "stream",
          "name": "stdout",
          "text": [
            "Looking in indexes: https://pypi.org/simple, https://us-python.pkg.dev/colab-wheels/public/simple/\n",
            "Collecting jiwer\n",
            "  Downloading jiwer-2.3.0-py3-none-any.whl (15 kB)\n",
            "Collecting python-Levenshtein==0.12.2\n",
            "  Downloading python-Levenshtein-0.12.2.tar.gz (50 kB)\n",
            "\u001b[K     |████████████████████████████████| 50 kB 7.3 MB/s \n",
            "\u001b[?25hRequirement already satisfied: setuptools in /usr/local/lib/python3.7/dist-packages (from python-Levenshtein==0.12.2->jiwer) (57.4.0)\n",
            "Building wheels for collected packages: python-Levenshtein\n",
            "  Building wheel for python-Levenshtein (setup.py) ... \u001b[?25l\u001b[?25hdone\n",
            "  Created wheel for python-Levenshtein: filename=python_Levenshtein-0.12.2-cp37-cp37m-linux_x86_64.whl size=149871 sha256=0d3ffaf4dd6835769c473c14da4d63a16135a467ab3cf2c70bba88258db77469\n",
            "  Stored in directory: /root/.cache/pip/wheels/05/5f/ca/7c4367734892581bb5ff896f15027a932c551080b2abd3e00d\n",
            "Successfully built python-Levenshtein\n",
            "Installing collected packages: python-Levenshtein, jiwer\n",
            "Successfully installed jiwer-2.3.0 python-Levenshtein-0.12.2\n",
            "0.12081513828238719\n"
          ]
        }
      ]
    },
    {
      "cell_type": "markdown",
      "source": [
        "###Another audio but in noisy environment"
      ],
      "metadata": {
        "id": "H-NXhhYMw5vV"
      }
    },
    {
      "cell_type": "code",
      "source": [
        "YOUTUBE_ID = 'Trs-isdu4eE'\n",
        "\n",
        "YouTubeVideo(YOUTUBE_ID)"
      ],
      "metadata": {
        "colab": {
          "base_uri": "https://localhost:8080/",
          "height": 321
        },
        "id": "r4rRMYW2UFK_",
        "outputId": "8cb4e7a9-9a5a-4b61-d70e-53748463372b"
      },
      "execution_count": null,
      "outputs": [
        {
          "output_type": "execute_result",
          "data": {
            "text/plain": [
              "<IPython.lib.display.YouTubeVideo at 0x7fb18292fe10>"
            ],
            "text/html": [
              "\n",
              "        <iframe\n",
              "            width=\"400\"\n",
              "            height=\"300\"\n",
              "            src=\"https://www.youtube.com/embed/Trs-isdu4eE\"\n",
              "            frameborder=\"0\"\n",
              "            allowfullscreen\n",
              "        ></iframe>\n",
              "        "
            ],
            "image/jpeg": "[encoded data removed]"
          },
          "metadata": {},
          "execution_count": 17
        }
      ]
    },
    {
      "cell_type": "code",
      "source": [
        "!rm -rf *.wav\n",
        "!youtube-dl --extract-audio --audio-format wav --output \"test.%(ext)s\" https://www.youtube.com/watch\\?v\\={YOUTUBE_ID}\n",
        "!deepspeech --model deepspeech-0.9.3-models.pbmm --scorer deepspeech-0.9.3-models.scorer --audio test.wav >> travelling.txt"
      ],
      "metadata": {
        "colab": {
          "base_uri": "https://localhost:8080/"
        },
        "id": "V0E30X27U10z",
        "outputId": "6dcafecf-a32e-4cf5-ad4a-b42f6a4a20f1"
      },
      "execution_count": null,
      "outputs": [
        {
          "output_type": "stream",
          "name": "stdout",
          "text": [
            "[youtube] Trs-isdu4eE: Downloading webpage\n",
            "[download] Destination: test.m4a\n",
            "\u001b[K[download] 100% of 2.34MiB in 00:29\n",
            "[ffmpeg] Correcting container in \"test.m4a\"\n",
            "[ffmpeg] Destination: test.wav\n",
            "Deleting original file test.m4a (pass -k to keep)\n",
            "Loading model from file deepspeech-0.9.3-models.pbmm\n",
            "TensorFlow: v2.3.0-6-g23ad988\n",
            "DeepSpeech: v0.9.3-0-gf2e9c85\n",
            "2022-08-12 01:59:27.181361: I tensorflow/core/platform/cpu_feature_guard.cc:142] This TensorFlow binary is optimized with oneAPI Deep Neural Network Library (oneDNN)to use the following CPU instructions in performance-critical operations:  AVX2 FMA\n",
            "To enable them in other operations, rebuild TensorFlow with the appropriate compiler flags.\n",
            "Loaded model in 0.0151s.\n",
            "Loading scorer from files deepspeech-0.9.3-models.scorer\n",
            "Loaded scorer in 0.00029s.\n",
            "Warning: original sample rate (44100) is different than 16000hz. Resampling might produce erratic speech recognition.\n",
            "Running inference.\n",
            "Inference took 96.287s for 151.417s audio file.\n"
          ]
        }
      ]
    },
    {
      "cell_type": "markdown",
      "source": [
        "Read the output text file"
      ],
      "metadata": {
        "id": "phEg1LTsxyhP"
      }
    },
    {
      "cell_type": "code",
      "source": [
        "f = open('travelling.txt', 'r')\n",
        "file_contents = f.read()\n",
        "print (file_contents)"
      ],
      "metadata": {
        "colab": {
          "base_uri": "https://localhost:8080/"
        },
        "id": "ig4wRqWNd58e",
        "outputId": "5ad22d19-3b4b-4028-cf4e-9981dbfea7cd"
      },
      "execution_count": null,
      "outputs": [
        {
          "output_type": "stream",
          "name": "stdout",
          "text": [
            "even olinto situation the inevitable heartening to follow association and interaction of man you know them that tub the shop man sits quietly on the rock contemplate what douglas in the classic one in these parts the summit spread okayondonghsera osachile his landing a senlabor yet we all have but this summer we capitation traveling under the social intercourse he had to face trustfully lover a eyetalians der the warning go and enjoy the wine aragonese bikes and don't forget to see something or academical winterbottom there obliteration of a discontented troopers fortunately meditation all over gotteswerder switch it off well i just heard a confirmation that the levendale just see one of the most repeated scenes in all of social mediaevally me for dora combination the surely heard sometimes you know because there are some great other photos to take the sergius grandsons to know what you need to do it you need to get so the squire and trying aesayatyenenghdon pastepot but that rooidam\n",
            "\n"
          ]
        }
      ]
    },
    {
      "cell_type": "markdown",
      "source": [
        "Calculate word error rate"
      ],
      "metadata": {
        "id": "8FUT7CCnyLzL"
      }
    },
    {
      "cell_type": "code",
      "source": [
        "id = 'Trs-isdu4eE'\n",
        "transcript, no_of_words = generate_transcript(id)\n",
        "print (transcript)\n",
        "ground_truth = transcript\n",
        "hypothesis = file_contents\n",
        "\n",
        "error = wer(ground_truth, hypothesis)\n",
        "print(error)"
      ],
      "metadata": {
        "colab": {
          "base_uri": "https://localhost:8080/"
        },
        "id": "Ax89Wi1Fafgz",
        "outputId": "1281774c-3645-423d-ddfb-c84c03d4a0c8"
      },
      "execution_count": null,
      "outputs": [
        {
          "output_type": "stream",
          "name": "stdout",
          "text": [
            "oh i've been alluded to a situation it's been happening a lot lately people have been seeing those photos of social media and are going to great lengths to copy them i mean you know them hot tub back shot man sits quietly on the rock contemplating hot dog legs and the classic one in these parts the summit spread eagle okay easy does it slip lower those arms nice and slow that's it mate oscar charlie the eagle has landed hi guys i've seen all this before yeah we all have but this summer we're clamping down on anyone traveling under the social influence okay come on guys you've had your fun trust me you're gonna absolutely love it okay how about you two you can consider this a warning guys um enjoy the wineries on those bikes and don't forget to share something new okay we have a suspect travelling under the social influence at the lavender field copy that looks like lavender it's the fourth one we've had this week oh lavender we've missed them fedora switch it off well i just had a confirmation that the lavender loiterers just shared one of the most replicated scenes in all of social media the follow me fedora combination it's just really hard sometimes you know because there are so many great other photos to take besides your usual graham shots do you know what you need to do is you need to think outside the square or triangle come in sos we have a hot dog legs in progress at mustard point over alright no this is david \n",
            "0.6925925925925925\n"
          ]
        }
      ]
    },
    {
      "cell_type": "markdown",
      "source": [
        "## **Speech Recognition with QuartzNet**"
      ],
      "metadata": {
        "id": "piAvhMINraK9"
      }
    },
    {
      "cell_type": "code",
      "source": [
        "#@title\n",
        "import os\n",
        "from os.path import exists, join, basename, splitext\n",
        "from IPython.display import YouTubeVideo\n",
        "\n",
        "!pip -q install wget youtube-dl wget tensorboardX kaldi-io marshmallow num2words ruamel.yaml soundfile sox torch-stft unidecode\n",
        "!pip install -q nemo-toolkit==0.9.0 nemo-asr==0.9.0 #--no-deps\n",
        "\n",
        "# we need also Apex\n",
        "if not exists('apex'):\n",
        "  !git clone -q --depth 1 https://github.com/NVIDIA/apex\n",
        "  !cd apex && pip install -q --no-cache-dir ./"
      ],
      "metadata": {
        "colab": {
          "base_uri": "https://localhost:8080/"
        },
        "id": "dkHMcsEArlQX",
        "outputId": "9c32e47a-4a90-4e3e-d4e6-78dd53efedda"
      },
      "execution_count": null,
      "outputs": [
        {
          "output_type": "stream",
          "name": "stdout",
          "text": [
            "\u001b[K     |████████████████████████████████| 1.9 MB 16.2 MB/s \n",
            "\u001b[K     |████████████████████████████████| 125 kB 56.2 MB/s \n",
            "\u001b[K     |████████████████████████████████| 116 kB 52.5 MB/s \n",
            "\u001b[K     |████████████████████████████████| 109 kB 59.9 MB/s \n",
            "\u001b[K     |████████████████████████████████| 235 kB 49.7 MB/s \n",
            "\u001b[K     |████████████████████████████████| 546 kB 21.2 MB/s \n",
            "\u001b[?25h  Building wheel for wget (setup.py) ... \u001b[?25l\u001b[?25hdone\n",
            "  Building wheel for docopt (setup.py) ... \u001b[?25l\u001b[?25hdone\n",
            "\u001b[K     |████████████████████████████████| 77 kB 4.7 MB/s \n",
            "\u001b[K     |████████████████████████████████| 45 kB 3.2 MB/s \n",
            "\u001b[K     |████████████████████████████████| 13.1 MB 50.1 MB/s \n",
            "\u001b[?25h\u001b[33m  DEPRECATION: A future pip version will change local packages to be built in-place without first copying to a temporary directory. We recommend you use --use-feature=in-tree-build to test your packages with this new behavior before it becomes the default.\n",
            "   pip 21.3 will remove support for this functionality. You can find discussion regarding this at https://github.com/pypa/pip/issues/7555.\u001b[0m\n",
            "  Building wheel for apex (setup.py) ... \u001b[?25l\u001b[?25hdone\n"
          ]
        }
      ]
    },
    {
      "cell_type": "code",
      "source": [
        "#@title\n",
        "if not exists('quartznet15x5_multidataset'):\n",
        "  # download the pretrained weights\n",
        "  !wget -nc -q --show-progress -O quartznet15x5.zip https://api.ngc.nvidia.com/v2/models/nvidia/multidataset_quartznet15x5/versions/1/zip\n",
        "  !unzip quartznet15x5.zip && mkdir quartznet15x5_multidataset && mv Jasper* quartznet15x5.yaml quartznet15x5_multidataset\n",
        "  "
      ],
      "metadata": {
        "colab": {
          "base_uri": "https://localhost:8080/"
        },
        "id": "iOO8Iv7-s4ty",
        "outputId": "c93b5136-4b11-4638-ed16-75bdeff1c6bd"
      },
      "execution_count": null,
      "outputs": [
        {
          "output_type": "stream",
          "name": "stdout",
          "text": [
            "quartznet15x5.zip   100%[===================>]  67.86M  24.2MB/s    in 2.8s    \n",
            "Archive:  quartznet15x5.zip\n",
            "  inflating: JasperDecoderForCTC-STEP-243800.pt  \n",
            "  inflating: JasperEncoder-STEP-243800.pt  \n",
            "  inflating: quartznet15x5.yaml      \n"
          ]
        }
      ]
    },
    {
      "cell_type": "code",
      "source": [
        "#@title\n",
        "#\n",
        "# this code is copied and modified from the NVIDIA/NeMo repo.\n",
        "#\n",
        "\n",
        "import json\n",
        "from ruamel.yaml import YAML\n",
        "import nemo\n",
        "import nemo_asr\n",
        "\n",
        "WORK_DIR = \"/content/quartznet15x5_multidataset\"\n",
        "MODEL_YAML = \"/content/quartznet15x5_multidataset/quartznet15x5.yaml\"\n",
        "CHECKPOINT_ENCODER = \"/content/quartznet15x5_multidataset/JasperEncoder-STEP-243800.pt\"\n",
        "CHECKPOINT_DECODER = \"/content/quartznet15x5_multidataset/JasperDecoderForCTC-STEP-243800.pt\"\n",
        "# Set this to True to enable beam search decoder\n",
        "ENABLE_NGRAM = False\n",
        "# This is only necessary if ENABLE_NGRAM = True. Otherwise, set to empty string\n",
        "LM_PATH = \"<PATH_TO_KENLM_BINARY>\"\n",
        "\n",
        "# Read model YAML\n",
        "yaml = YAML(typ=\"safe\")\n",
        "with open(MODEL_YAML) as f:\n",
        "    jasper_model_definition = yaml.load(f)\n",
        "labels = jasper_model_definition['labels']\n",
        "\n",
        "# Instantiate necessary Neural Modules\n",
        "# Note that data layer is missing from here\n",
        "neural_factory = nemo.core.NeuralModuleFactory(\n",
        "    placement=nemo.core.DeviceType.CPU,\n",
        "    backend=nemo.core.Backend.PyTorch)\n",
        "data_preprocessor = nemo_asr.AudioToMelSpectrogramPreprocessor(factory=neural_factory)\n",
        "jasper_encoder = nemo_asr.JasperEncoder(\n",
        "    jasper=jasper_model_definition['JasperEncoder']['jasper'],\n",
        "    activation=jasper_model_definition['JasperEncoder']['activation'],\n",
        "    feat_in=jasper_model_definition['AudioToMelSpectrogramPreprocessor']['features'])\n",
        "jasper_encoder.restore_from(CHECKPOINT_ENCODER, local_rank=0)\n",
        "jasper_decoder = nemo_asr.JasperDecoderForCTC(\n",
        "    feat_in=1024,\n",
        "    num_classes=len(labels))\n",
        "jasper_decoder.restore_from(CHECKPOINT_DECODER, local_rank=0)\n",
        "greedy_decoder = nemo_asr.GreedyCTCDecoder()\n",
        "\n",
        "def wav_to_text(manifest, greedy=True):\n",
        "    from ruamel.yaml import YAML\n",
        "    yaml = YAML(typ=\"safe\")\n",
        "    with open(MODEL_YAML) as f:\n",
        "        jasper_model_definition = yaml.load(f)\n",
        "    labels = jasper_model_definition['labels']\n",
        "\n",
        "    # Instantiate necessary neural modules\n",
        "    data_layer = nemo_asr.AudioToTextDataLayer(\n",
        "        shuffle=False,\n",
        "        manifest_filepath=manifest,\n",
        "        labels=labels, batch_size=1)\n",
        "\n",
        "    # Define inference DAG\n",
        "    audio_signal, audio_signal_len, _, _ = data_layer()\n",
        "    processed_signal, processed_signal_len = data_preprocessor(\n",
        "        input_signal=audio_signal,\n",
        "        length=audio_signal_len)\n",
        "    encoded, encoded_len = jasper_encoder(audio_signal=processed_signal,\n",
        "                                          length=processed_signal_len)\n",
        "    log_probs = jasper_decoder(encoder_output=encoded)\n",
        "    predictions = greedy_decoder(log_probs=log_probs)\n",
        "\n",
        "    if ENABLE_NGRAM:\n",
        "        print('Running with beam search')\n",
        "        beam_predictions = beam_search_with_lm(\n",
        "            log_probs=log_probs, log_probs_length=encoded_len)\n",
        "        eval_tensors = [beam_predictions]\n",
        "\n",
        "    if greedy:\n",
        "        eval_tensors = [predictions]\n",
        "\n",
        "    tensors = neural_factory.infer(tensors=eval_tensors)\n",
        "    if greedy:\n",
        "        from nemo_asr.helpers import post_process_predictions\n",
        "        prediction = post_process_predictions(tensors[0], labels)\n",
        "    else:\n",
        "        prediction = tensors[0][0][0][0][1]\n",
        "    return prediction\n",
        "\n",
        "def create_manifest(file_path):\n",
        "    # create manifest\n",
        "    manifest = dict()\n",
        "    manifest['audio_filepath'] = file_path\n",
        "    manifest['duration'] = 18000\n",
        "    manifest['text'] = 'todo'\n",
        "    with open(file_path+\".json\", 'w') as fout:\n",
        "        fout.write(json.dumps(manifest))\n",
        "    return file_path+\".json\""
      ],
      "metadata": {
        "colab": {
          "base_uri": "https://localhost:8080/"
        },
        "id": "GfoN23i9sOk3",
        "outputId": "0ca9663e-e374-43f7-e9af-3a39496b5198"
      },
      "execution_count": null,
      "outputs": [
        {
          "output_type": "stream",
          "name": "stderr",
          "text": [
            "INFO:root:PADDING: 16\n",
            "2022-08-12 01:48:52,425 - INFO - PADDING: 16\n"
          ]
        },
        {
          "output_type": "stream",
          "name": "stdout",
          "text": [
            "STFT using torch\n"
          ]
        }
      ]
    },
    {
      "cell_type": "code",
      "source": [
        "#@title\n",
        "YOUTUBE_ID = 'Trs-isdu4eE'\n",
        "\n",
        "\n",
        "YouTubeVideo(YOUTUBE_ID)"
      ],
      "metadata": {
        "colab": {
          "base_uri": "https://localhost:8080/",
          "height": 321
        },
        "id": "No6f-mamvq9D",
        "outputId": "1a5efb5a-6006-44a1-a1b2-02a631faa822"
      },
      "execution_count": null,
      "outputs": [
        {
          "output_type": "execute_result",
          "data": {
            "text/plain": [
              "<IPython.lib.display.YouTubeVideo at 0x7fb18335f590>"
            ],
            "text/html": [
              "\n",
              "        <iframe\n",
              "            width=\"400\"\n",
              "            height=\"300\"\n",
              "            src=\"https://www.youtube.com/embed/Trs-isdu4eE\"\n",
              "            frameborder=\"0\"\n",
              "            allowfullscreen\n",
              "        ></iframe>\n",
              "        "
            ],
            "image/jpeg": "[encoded data removed]"
          },
          "metadata": {},
          "execution_count": 9
        }
      ]
    },
    {
      "cell_type": "markdown",
      "source": [
        "Converting speech to text"
      ],
      "metadata": {
        "id": "sfrP4Wg_sais"
      }
    },
    {
      "cell_type": "code",
      "source": [
        "#@title\n",
        "!rm -rf *.wav\n",
        "!youtube-dl --extract-audio --audio-format wav --quiet --output \"downloaded.%(ext)s\" https://www.youtube.com/watch\\?v\\={YOUTUBE_ID}\n",
        "!ffmpeg -loglevel panic -y -i downloaded.wav -acodec pcm_s16le -ac 1 -ar 16000 test.wav\n",
        "\n",
        "travelling = wav_to_text(create_manifest('test.wav'))\n",
        "\n",
        "print('\\n\\n')\n",
        "print(travelling)"
      ],
      "metadata": {
        "colab": {
          "base_uri": "https://localhost:8080/"
        },
        "id": "B3z_XSTosZUt",
        "outputId": "2c0121fa-deb2-4f1d-bf2b-b75c44fc7a4e"
      },
      "execution_count": null,
      "outputs": [
        {
          "output_type": "stream",
          "name": "stderr",
          "text": [
            "INFO:root:Dataset loaded with 5.00 hours. Filtered 0.00 hours.\n",
            "2022-08-12 02:06:06,795 - INFO - Dataset loaded with 5.00 hours. Filtered 0.00 hours.\n",
            "INFO:root:Evaluating batch 0 out of 1\n",
            "2022-08-12 02:06:06,819 - INFO - Evaluating batch 0 out of 1\n"
          ]
        },
        {
          "output_type": "stream",
          "name": "stdout",
          "text": [
            "\n",
            "\n",
            "\n",
            "[\"e've been a little to situationit'sep have been seeing thost photos of social media and i going to greatly to stacovinamnyou know them hot tub backshot man sits quietly on the rock contemplating hot dog liks in the clisic one in these parts the summit sprety hy gus i've seen all this before yeh we all have but this summer we're clamping down on anyone traveling under the sushankilmo gos you hate your fater just ma o you too ye can consider this a warning guyy am enjoy the winereats on those bikes and don't forget to share somethinkeri foeseridorswitcitof li just haid a confirmation that the lavender loutrers just shared one of the most replicated scenes in all of social medium they um follow me for dora combinnecause there are so many great other photos to take teside o usual graim shoks what you need to do is you need to think outsomete squv or tryingc\"]\n"
          ]
        }
      ]
    },
    {
      "cell_type": "markdown",
      "source": [
        "Calculate word error rate of QuartzNet model"
      ],
      "metadata": {
        "id": "QeDgZoXBzZOH"
      }
    },
    {
      "cell_type": "code",
      "source": [
        "ground_truth = transcript\n",
        "hypothesis = travelling\n",
        "\n",
        "error = wer(ground_truth, hypothesis)\n",
        "print(error)"
      ],
      "metadata": {
        "colab": {
          "base_uri": "https://localhost:8080/"
        },
        "id": "MaL4p7W6v35P",
        "outputId": "3949931b-3980-435a-cc9b-6ba9c9032c4b"
      },
      "execution_count": null,
      "outputs": [
        {
          "output_type": "stream",
          "name": "stdout",
          "text": [
            "0.5962962962962963\n"
          ]
        }
      ]
    }
  ]
}